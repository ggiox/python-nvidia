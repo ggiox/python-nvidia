{
 "cells": [
  {
   "cell_type": "markdown",
   "id": "133d5433",
   "metadata": {},
   "source": [
    "# Como remodelar o layout das tabelas\n",
    "\n",
    "Inicie importando o panda e lendo os arquivos titanic.csv e air_quality_no2.csv"
   ]
  },
  {
   "cell_type": "code",
   "execution_count": null,
   "id": "9381e989",
   "metadata": {},
   "outputs": [],
   "source": [
    "import pandas as pd\n",
    "\n",
    "titanic = pd.read_csv(\"data/titanic.csv\")\n",
    "titanic.head()\n"
   ]
  },
  {
   "cell_type": "code",
   "execution_count": null,
   "id": "d411edb6",
   "metadata": {},
   "outputs": [],
   "source": [
    "air_quality = pd.read_csv(\"data/air_quality_long.csv\", index_col=\"date.utc\", parse_dates=True)\n",
    "air_quality.head()"
   ]
  },
  {
   "cell_type": "markdown",
   "id": "46326043",
   "metadata": {},
   "source": [
    "# Classificar linhas da tabela\n",
    "\n",
    "Quero classificar os dados do Titanic de acordo com a idade dos passageiros."
   ]
  },
  {
   "cell_type": "code",
   "execution_count": null,
   "id": "51930dc1",
   "metadata": {},
   "outputs": [],
   "source": [
    "titanic.sort_values(by=\"Age\").head()"
   ]
  },
  {
   "cell_type": "markdown",
   "id": "d145c778",
   "metadata": {},
   "source": [
    "Quero classificar os dados do Titanic de acordo com a classe da cabine e a idade em ordem decrescente."
   ]
  },
  {
   "cell_type": "code",
   "execution_count": null,
   "id": "08ad7d96",
   "metadata": {},
   "outputs": [],
   "source": [
    "titanic.sort_values(by=['Pclass', 'Age'], ascending=False).head()"
   ]
  },
  {
   "cell_type": "markdown",
   "id": "3ec74d53",
   "metadata": {},
   "source": [
    "Com DataFrame.sort_values(), as linhas da tabela são classificadas de acordo com a(s) coluna(s) definida(s).  \n",
    "O índice seguirá a ordem das linhas.\n",
    "\n",
    "# Formato de tabela longa para larga\n",
    "\n",
    "Vamos usar um pequeno subconjunto do conjunto de dados de qualidade do ar.  \n",
    "Concentramo-nos em usar apenas os dados das duas primeiras medições de cada local (ou seja, a cabeça de cada grupo).  \n",
    "O subconjunto de dados será chamado de no2_subset."
   ]
  },
  {
   "cell_type": "code",
   "execution_count": null,
   "id": "c27a6e33",
   "metadata": {},
   "outputs": [],
   "source": [
    "no2 = air_quality[air_quality[\"parameter\"] == \"no2\"]\n",
    "no2_subset = no2.sort_index().groupby([\"location\"]).head(2)\n",
    "no2_subset"
   ]
  },
  {
   "cell_type": "markdown",
   "id": "a5362969",
   "metadata": {},
   "source": [
    "Quero os valores das três estações em colunas separadas, uma ao lado da outra.  \n",
    "\n",
    "A função pivot(), é puramente uma reformulação dos dados:  \n",
    "* é necessário um único valor para cada combinação de índice/coluna."
   ]
  },
  {
   "cell_type": "code",
   "execution_count": null,
   "id": "8d5ecd1a",
   "metadata": {},
   "outputs": [],
   "source": [
    "no2_subset.pivot(columns=\"location\", values=\"value\")"
   ]
  },
  {
   "cell_type": "markdown",
   "id": "efc7584f",
   "metadata": {},
   "source": [
    "Como o pandas oferece suporte imediato à plotagem de múltiplas colunas (veja o tutorial de plotagem ),  \n",
    "a conversão do formato de tabela longa para larga permite a plotagem de diferentes séries temporais ao mesmo tempo:"
   ]
  },
  {
   "cell_type": "code",
   "execution_count": null,
   "id": "57d98d14",
   "metadata": {},
   "outputs": [],
   "source": [
    "no2.head()"
   ]
  },
  {
   "cell_type": "code",
   "execution_count": null,
   "id": "971626f8",
   "metadata": {},
   "outputs": [],
   "source": [
    "no2.pivot(columns=\"location\", values=\"value\").plot()"
   ]
  },
  {
   "cell_type": "markdown",
   "id": "b9e43f01",
   "metadata": {},
   "source": [
    "Quando o indexparâmetro não é definido, o índice existente (rótulos de linha) é usado.\n",
    "\n",
    "# Tabela dinâmica\n",
    "\n",
    "Quero as concentrações médias para e em cada uma das estações em forma de tabela.\n",
    "\n",
    "No caso de pivot(), os dados são apenas reorganizados.  \n",
    "Quando vários valores precisam ser agregados (neste caso específico, os valores em diferentes intervalos de tempo),  \n",
    "pivot_table() pode ser usado, fornecendo uma função de agregação (por exemplo, média) sobre como combinar esses valores."
   ]
  },
  {
   "cell_type": "code",
   "execution_count": null,
   "id": "71b830ef",
   "metadata": {},
   "outputs": [],
   "source": [
    "air_quality.pivot_table(\n",
    "    values=\"value\", index=\"location\", columns=\"parameter\", aggfunc=\"mean\"\n",
    ")"
   ]
  },
  {
   "cell_type": "markdown",
   "id": "17505d60",
   "metadata": {},
   "source": [
    "Tabela dinâmica é um conceito bem conhecido em softwares de planilhas.  \n",
    "Se estiver interessado nas margens de linha/coluna (subtotais) de cada variável, defina o marginsparâmetro como True:"
   ]
  },
  {
   "cell_type": "code",
   "execution_count": null,
   "id": "1e317f4c",
   "metadata": {},
   "outputs": [],
   "source": [
    "air_quality.pivot_table(\n",
    "    values=\"value\",\n",
    "    index=\"location\",\n",
    "    columns=\"parameter\",\n",
    "    aggfunc=\"mean\",\n",
    "    margins=True,\n",
    ")"
   ]
  },
  {
   "cell_type": "markdown",
   "id": "05218bd3",
   "metadata": {},
   "source": [
    "Caso você esteja se perguntando, pivot_table()está de fato diretamente ligado a groupby().  \n",
    "O mesmo resultado pode ser obtido agrupando em parametere location:\n",
    "\n",
    "        air_quality.groupby([\"parameter\", \"location\"])[[\"value\"]].mean()"
   ]
  },
  {
   "cell_type": "markdown",
   "id": "626c4b41",
   "metadata": {},
   "source": [
    "# Formato largo para longo\n",
    "\n",
    "Começando novamente a partir da tabela de formato amplo criada na seção anterior,  \n",
    "adicionamos um novo índice ao DataFramewith reset_index()."
   ]
  },
  {
   "cell_type": "code",
   "execution_count": null,
   "id": "8355d542",
   "metadata": {},
   "outputs": [],
   "source": [
    "no2_pivoted = no2.pivot(columns=\"location\", values=\"value\").reset_index()\n",
    "no2_pivoted.head()"
   ]
  },
  {
   "cell_type": "markdown",
   "id": "6556ff4c",
   "metadata": {},
   "source": [
    "Quero coletar toda a qualidade do ar NO² medições em uma única coluna (formato longo).\n",
    "\n",
    "O método pandas.melt(), em DataFrame, converte a tabela de dados do formato amplo para o formato longo.  \n",
    "Os cabeçalhos das colunas se tornam os nomes das variáveis ​​em uma coluna recém-criada."
   ]
  },
  {
   "cell_type": "code",
   "execution_count": null,
   "id": "95c5bc4f",
   "metadata": {},
   "outputs": [],
   "source": [
    "no_2 = no2_pivoted.melt(id_vars=\"date.utc\")\n",
    "no_2.head()"
   ]
  },
  {
   "cell_type": "markdown",
   "id": "cfa0f4e2",
   "metadata": {},
   "source": [
    "A solução é a versão resumida de como aplicar pandas.melt().  \n",
    "O método fundirá todas as colunas NÃO mencionadas id_varsem duas colunas:  \n",
    "\n",
    "* Uma coluna com os nomes dos cabeçalhos \n",
    "* Uma coluna com os valores propriamente ditos  \n",
    "\n",
    "Esta última coluna recebe, por padrão, o nome value.\n",
    "\n",
    "Os parâmetros passados para o pandas.melt(), ​​podem ser definidos com mais detalhes:"
   ]
  },
  {
   "cell_type": "code",
   "execution_count": null,
   "id": "f9fd78d6",
   "metadata": {},
   "outputs": [],
   "source": [
    "no_2 = no2_pivoted.melt(\n",
    "    id_vars=\"date.utc\",\n",
    "    value_vars=[\"BETR801\", \"FR04014\", \"London Westminster\"],\n",
    "    value_name=\"NO_2\",\n",
    "    var_name=\"id_location\",\n",
    ")\n",
    "no_2.head()"
   ]
  },
  {
   "cell_type": "markdown",
   "id": "d70a4bbc",
   "metadata": {},
   "source": [
    "Os parâmetros adicionais têm os seguintes efeitos:\n",
    "\n",
    "* value_vars define quais colunas devem ser fundidas\n",
    "* value_name fornece um nome de coluna personalizado para a coluna de valores em vez do nome de coluna padrão value\n",
    "* var_name fornece um nome de coluna personalizado para a coluna que coleta os nomes dos cabeçalhos das colunas. \n",
    "    Caso contrário, ele usa o nome do índice ou um nome padrãovariable\n",
    "\n",
    "Portanto, os argumentos value_namee var_name são apenas nomes definidos pelo usuário para as duas colunas geradas.  \n",
    "As colunas a serem fundidas são definidas por id_varse value_vars."
   ]
  },
  {
   "cell_type": "markdown",
   "id": "d28607fb",
   "metadata": {},
   "source": [
    "**LEMBRAR**\n",
    "\n",
    "* A classificação por uma ou mais colunas é suportada por sort_values.\n",
    "* A pivotfunção é puramente de reestruturação dos dados e pivot_tablesuporta agregações.\n",
    "* O inverso de pivot(formato longo para formato largo) é melt(formato largo para formato longo)."
   ]
  }
 ],
 "metadata": {
  "kernelspec": {
   "display_name": "Python 3",
   "language": "python",
   "name": "python3"
  },
  "language_info": {
   "codemirror_mode": {
    "name": "ipython",
    "version": 3
   },
   "file_extension": ".py",
   "mimetype": "text/x-python",
   "name": "python",
   "nbconvert_exporter": "python",
   "pygments_lexer": "ipython3",
   "version": "3.10.12"
  }
 },
 "nbformat": 4,
 "nbformat_minor": 5
}

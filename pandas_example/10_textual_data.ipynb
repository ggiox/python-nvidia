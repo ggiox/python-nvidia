{
 "cells": [
  {
   "cell_type": "markdown",
   "id": "a562df72",
   "metadata": {},
   "source": [
    "# Como manipular dados textuais\n",
    "\n",
    "Inicializar os pacotes e ler os arquivos"
   ]
  },
  {
   "cell_type": "code",
   "execution_count": 1,
   "id": "a120810e",
   "metadata": {},
   "outputs": [
    {
     "data": {
      "text/html": [
       "<div>\n",
       "<style scoped>\n",
       "    .dataframe tbody tr th:only-of-type {\n",
       "        vertical-align: middle;\n",
       "    }\n",
       "\n",
       "    .dataframe tbody tr th {\n",
       "        vertical-align: top;\n",
       "    }\n",
       "\n",
       "    .dataframe thead th {\n",
       "        text-align: right;\n",
       "    }\n",
       "</style>\n",
       "<table border=\"1\" class=\"dataframe\">\n",
       "  <thead>\n",
       "    <tr style=\"text-align: right;\">\n",
       "      <th></th>\n",
       "      <th>PassengerId</th>\n",
       "      <th>Survived</th>\n",
       "      <th>Pclass</th>\n",
       "      <th>Name</th>\n",
       "      <th>Sex</th>\n",
       "      <th>Age</th>\n",
       "      <th>SibSp</th>\n",
       "      <th>Parch</th>\n",
       "      <th>Ticket</th>\n",
       "      <th>Fare</th>\n",
       "      <th>Cabin</th>\n",
       "      <th>Embarked</th>\n",
       "    </tr>\n",
       "  </thead>\n",
       "  <tbody>\n",
       "    <tr>\n",
       "      <th>0</th>\n",
       "      <td>1</td>\n",
       "      <td>0</td>\n",
       "      <td>3</td>\n",
       "      <td>Braund, Mr. Owen Harris</td>\n",
       "      <td>male</td>\n",
       "      <td>22.0</td>\n",
       "      <td>1</td>\n",
       "      <td>0</td>\n",
       "      <td>A/5 21171</td>\n",
       "      <td>7.2500</td>\n",
       "      <td>NaN</td>\n",
       "      <td>S</td>\n",
       "    </tr>\n",
       "    <tr>\n",
       "      <th>1</th>\n",
       "      <td>2</td>\n",
       "      <td>1</td>\n",
       "      <td>1</td>\n",
       "      <td>Cumings, Mrs. John Bradley (Florence Briggs Th...</td>\n",
       "      <td>female</td>\n",
       "      <td>38.0</td>\n",
       "      <td>1</td>\n",
       "      <td>0</td>\n",
       "      <td>PC 17599</td>\n",
       "      <td>71.2833</td>\n",
       "      <td>C85</td>\n",
       "      <td>C</td>\n",
       "    </tr>\n",
       "    <tr>\n",
       "      <th>2</th>\n",
       "      <td>3</td>\n",
       "      <td>1</td>\n",
       "      <td>3</td>\n",
       "      <td>Heikkinen, Miss Laina</td>\n",
       "      <td>female</td>\n",
       "      <td>26.0</td>\n",
       "      <td>0</td>\n",
       "      <td>0</td>\n",
       "      <td>STON/O2. 3101282</td>\n",
       "      <td>7.9250</td>\n",
       "      <td>NaN</td>\n",
       "      <td>S</td>\n",
       "    </tr>\n",
       "    <tr>\n",
       "      <th>3</th>\n",
       "      <td>4</td>\n",
       "      <td>1</td>\n",
       "      <td>1</td>\n",
       "      <td>Futrelle, Mrs. Jacques Heath (Lily May Peel)</td>\n",
       "      <td>female</td>\n",
       "      <td>35.0</td>\n",
       "      <td>1</td>\n",
       "      <td>0</td>\n",
       "      <td>113803</td>\n",
       "      <td>53.1000</td>\n",
       "      <td>C123</td>\n",
       "      <td>S</td>\n",
       "    </tr>\n",
       "    <tr>\n",
       "      <th>4</th>\n",
       "      <td>5</td>\n",
       "      <td>0</td>\n",
       "      <td>3</td>\n",
       "      <td>Allen, Mr. William Henry</td>\n",
       "      <td>male</td>\n",
       "      <td>35.0</td>\n",
       "      <td>0</td>\n",
       "      <td>0</td>\n",
       "      <td>373450</td>\n",
       "      <td>8.0500</td>\n",
       "      <td>NaN</td>\n",
       "      <td>S</td>\n",
       "    </tr>\n",
       "  </tbody>\n",
       "</table>\n",
       "</div>"
      ],
      "text/plain": [
       "   PassengerId  Survived  Pclass  \\\n",
       "0            1         0       3   \n",
       "1            2         1       1   \n",
       "2            3         1       3   \n",
       "3            4         1       1   \n",
       "4            5         0       3   \n",
       "\n",
       "                                                Name     Sex   Age  SibSp  \\\n",
       "0                            Braund, Mr. Owen Harris    male  22.0      1   \n",
       "1  Cumings, Mrs. John Bradley (Florence Briggs Th...  female  38.0      1   \n",
       "2                              Heikkinen, Miss Laina  female  26.0      0   \n",
       "3       Futrelle, Mrs. Jacques Heath (Lily May Peel)  female  35.0      1   \n",
       "4                           Allen, Mr. William Henry    male  35.0      0   \n",
       "\n",
       "   Parch            Ticket     Fare Cabin Embarked  \n",
       "0      0         A/5 21171   7.2500   NaN        S  \n",
       "1      0          PC 17599  71.2833   C85        C  \n",
       "2      0  STON/O2. 3101282   7.9250   NaN        S  \n",
       "3      0            113803  53.1000  C123        S  \n",
       "4      0            373450   8.0500   NaN        S  "
      ]
     },
     "execution_count": 1,
     "metadata": {},
     "output_type": "execute_result"
    }
   ],
   "source": [
    "import pandas as pd\n",
    "\n",
    "titanic = pd.read_csv(\"data/titanic.csv\")\n",
    "titanic.head()"
   ]
  },
  {
   "cell_type": "markdown",
   "id": "9acc1bf4",
   "metadata": {},
   "source": [
    "Coloque todos os caracteres do nome em minúsculas.  \n",
    "\n",
    "Para transformar cada uma das strings da coluna Name em minúsculas,  \n",
    "selecione a coluna Name (consulte o tutorial sobre seleção de dados ),  \n",
    "adicione o stracessador e aplique o lowermétodo.  \n",
    "Dessa forma, cada uma das strings é convertida elemento a elemento."
   ]
  },
  {
   "cell_type": "code",
   "execution_count": 2,
   "id": "e31c7549",
   "metadata": {},
   "outputs": [
    {
     "data": {
      "text/plain": [
       "0                                braund, mr. owen harris\n",
       "1      cumings, mrs. john bradley (florence briggs th...\n",
       "2                                  heikkinen, miss laina\n",
       "3           futrelle, mrs. jacques heath (lily may peel)\n",
       "4                               allen, mr. william henry\n",
       "                             ...                        \n",
       "886                                montvila, rev. juozas\n",
       "887                          graham, miss margaret edith\n",
       "888              johnston, miss catherine helen \"carrie\"\n",
       "889                                behr, mr. karl howell\n",
       "890                                  dooley, mr. patrick\n",
       "Name: Name, Length: 891, dtype: object"
      ]
     },
     "execution_count": 2,
     "metadata": {},
     "output_type": "execute_result"
    }
   ],
   "source": [
    "titanic[\"Name\"].str.lower()"
   ]
  },
  {
   "cell_type": "markdown",
   "id": "abe15752",
   "metadata": {},
   "source": [
    "Semelhante aos objetos datetime no tutorial de séries temporais que possuem um dt acessador,  \n",
    "vários métodos de string especializados estão disponíveis ao usar o str acessador.  \n",
    "Esses métodos geralmente têm nomes correspondentes aos métodos de string integrados equivalentes para elementos individuais,  \n",
    "mas são aplicados elemento a elemento (lembra dos cálculos elemento a elemento ?) em cada um dos valores das colunas.\n",
    "\n",
    "Crie uma nova coluna Surnameque contenha o sobrenome dos passageiros extraindo a parte antes da vírgula."
   ]
  },
  {
   "cell_type": "code",
   "execution_count": 3,
   "id": "f2e8bc88",
   "metadata": {},
   "outputs": [
    {
     "data": {
      "text/plain": [
       "0                             [Braund,  Mr. Owen Harris]\n",
       "1      [Cumings,  Mrs. John Bradley (Florence Briggs ...\n",
       "2                               [Heikkinen,  Miss Laina]\n",
       "3        [Futrelle,  Mrs. Jacques Heath (Lily May Peel)]\n",
       "4                            [Allen,  Mr. William Henry]\n",
       "                             ...                        \n",
       "886                             [Montvila,  Rev. Juozas]\n",
       "887                       [Graham,  Miss Margaret Edith]\n",
       "888           [Johnston,  Miss Catherine Helen \"Carrie\"]\n",
       "889                             [Behr,  Mr. Karl Howell]\n",
       "890                               [Dooley,  Mr. Patrick]\n",
       "Name: Name, Length: 891, dtype: object"
      ]
     },
     "execution_count": 3,
     "metadata": {},
     "output_type": "execute_result"
    }
   ],
   "source": [
    "titanic[\"Name\"].str.split(\",\")"
   ]
  },
  {
   "cell_type": "markdown",
   "id": "ee39c9fb",
   "metadata": {},
   "source": [
    "Usando o método *Series.str.split()*, cada um dos valores é retornado como uma lista de 2 elementos.  \n",
    "O primeiro elemento é a parte antes da vírgula e o segundo elemento é a parte depois da vírgula.\n",
    "\n",
    "Como estamos interessados ​​apenas na primeira parte que representa o sobrenome (elemento 0),  \n",
    "podemos usar novamente o stracessador e aplicar Series.str.get() para extrair a parte relevante.  \n",
    "De fato, essas funções de string podem ser concatenadas para combinar várias funções ao mesmo tempo!"
   ]
  },
  {
   "cell_type": "code",
   "execution_count": 4,
   "id": "cd1cb022",
   "metadata": {},
   "outputs": [
    {
     "data": {
      "text/plain": [
       "0         Braund\n",
       "1        Cumings\n",
       "2      Heikkinen\n",
       "3       Futrelle\n",
       "4          Allen\n",
       "         ...    \n",
       "886     Montvila\n",
       "887       Graham\n",
       "888     Johnston\n",
       "889         Behr\n",
       "890       Dooley\n",
       "Name: Surname, Length: 891, dtype: object"
      ]
     },
     "execution_count": 4,
     "metadata": {},
     "output_type": "execute_result"
    }
   ],
   "source": [
    "titanic[\"Surname\"] = titanic[\"Name\"].str.split(\",\").str.get(0)\n",
    "titanic[\"Surname\"]"
   ]
  },
  {
   "cell_type": "markdown",
   "id": "8fab05b6",
   "metadata": {},
   "source": [
    "Extraia os dados dos passageiros sobre as condessas a bordo do Titanic."
   ]
  },
  {
   "cell_type": "code",
   "execution_count": 5,
   "id": "a36c0761",
   "metadata": {},
   "outputs": [
    {
     "data": {
      "text/plain": [
       "0      False\n",
       "1      False\n",
       "2      False\n",
       "3      False\n",
       "4      False\n",
       "       ...  \n",
       "886    False\n",
       "887    False\n",
       "888    False\n",
       "889    False\n",
       "890    False\n",
       "Name: Name, Length: 891, dtype: bool"
      ]
     },
     "execution_count": 5,
     "metadata": {},
     "output_type": "execute_result"
    }
   ],
   "source": [
    "titanic[\"Name\"].str.contains(\"Countess\")"
   ]
  },
  {
   "cell_type": "code",
   "execution_count": 6,
   "id": "99922728",
   "metadata": {},
   "outputs": [
    {
     "data": {
      "text/html": [
       "<div>\n",
       "<style scoped>\n",
       "    .dataframe tbody tr th:only-of-type {\n",
       "        vertical-align: middle;\n",
       "    }\n",
       "\n",
       "    .dataframe tbody tr th {\n",
       "        vertical-align: top;\n",
       "    }\n",
       "\n",
       "    .dataframe thead th {\n",
       "        text-align: right;\n",
       "    }\n",
       "</style>\n",
       "<table border=\"1\" class=\"dataframe\">\n",
       "  <thead>\n",
       "    <tr style=\"text-align: right;\">\n",
       "      <th></th>\n",
       "      <th>PassengerId</th>\n",
       "      <th>Survived</th>\n",
       "      <th>Pclass</th>\n",
       "      <th>Name</th>\n",
       "      <th>Sex</th>\n",
       "      <th>Age</th>\n",
       "      <th>SibSp</th>\n",
       "      <th>Parch</th>\n",
       "      <th>Ticket</th>\n",
       "      <th>Fare</th>\n",
       "      <th>Cabin</th>\n",
       "      <th>Embarked</th>\n",
       "      <th>Surname</th>\n",
       "    </tr>\n",
       "  </thead>\n",
       "  <tbody>\n",
       "    <tr>\n",
       "      <th>759</th>\n",
       "      <td>760</td>\n",
       "      <td>1</td>\n",
       "      <td>1</td>\n",
       "      <td>Rothes, the Countess. of (Lucy Noel Martha Dye...</td>\n",
       "      <td>female</td>\n",
       "      <td>33.0</td>\n",
       "      <td>0</td>\n",
       "      <td>0</td>\n",
       "      <td>110152</td>\n",
       "      <td>86.5</td>\n",
       "      <td>B77</td>\n",
       "      <td>S</td>\n",
       "      <td>Rothes</td>\n",
       "    </tr>\n",
       "  </tbody>\n",
       "</table>\n",
       "</div>"
      ],
      "text/plain": [
       "     PassengerId  Survived  Pclass  \\\n",
       "759          760         1       1   \n",
       "\n",
       "                                                  Name     Sex   Age  SibSp  \\\n",
       "759  Rothes, the Countess. of (Lucy Noel Martha Dye...  female  33.0      0   \n",
       "\n",
       "     Parch  Ticket  Fare Cabin Embarked Surname  \n",
       "759      0  110152  86.5   B77        S  Rothes  "
      ]
     },
     "execution_count": 6,
     "metadata": {},
     "output_type": "execute_result"
    }
   ],
   "source": [
    "titanic[titanic[\"Name\"].str.contains(\"Countess\")]"
   ]
  },
  {
   "cell_type": "markdown",
   "id": "f13dfcae",
   "metadata": {},
   "source": [
    "O método string Series.str.contains() verifica, para cada um dos valores na coluna, se Name contém a palavra *Countess* e retorna,  \n",
    "para cada um dos valores True, (Countess faz parte do nome) ou False (Countess não faz parte do nome). \n",
    "\n",
    "Esta saída pode ser usada para subselecionar os dados usando a indexação condicional (booleana) introduzida no tutorial sobre subconjuntos de dados.  \n",
    "Como havia apenas uma condessa no Titanic, obtemos uma linha como resultado.\n",
    "\n",
    "Extrações mais poderosas em strings são suportadas, pois os métodos Series.str.contains() e Series.str.extract()  \n",
    "aceitam expressões regulares , mas estão fora do escopo deste tutorial.\n",
    "\n",
    "Qual passageiro do Titanic tem o nome mais longo?"
   ]
  },
  {
   "cell_type": "code",
   "execution_count": 7,
   "id": "90bc3a4d",
   "metadata": {},
   "outputs": [
    {
     "data": {
      "text/plain": [
       "0      23\n",
       "1      51\n",
       "2      21\n",
       "3      44\n",
       "4      24\n",
       "       ..\n",
       "886    21\n",
       "887    27\n",
       "888    39\n",
       "889    21\n",
       "890    19\n",
       "Name: Name, Length: 891, dtype: int64"
      ]
     },
     "execution_count": 7,
     "metadata": {},
     "output_type": "execute_result"
    }
   ],
   "source": [
    "titanic[\"Name\"].str.len()"
   ]
  },
  {
   "cell_type": "markdown",
   "id": "4fc9a3c0",
   "metadata": {},
   "source": [
    "Para obter o nome mais longo, primeiro precisamos obter o comprimento de cada um dos nomes na coluna Name.  \n",
    "Usando os métodos de string do Pandas, a função *Series.str.len()* é aplicada a cada um dos nomes individualmente (elemento por elemento)."
   ]
  },
  {
   "cell_type": "code",
   "execution_count": 8,
   "id": "7a6e07f6",
   "metadata": {},
   "outputs": [
    {
     "data": {
      "text/plain": [
       "307"
      ]
     },
     "execution_count": 8,
     "metadata": {},
     "output_type": "execute_result"
    }
   ],
   "source": [
    "titanic[\"Name\"].str.len().idxmax()"
   ]
  },
  {
   "cell_type": "markdown",
   "id": "715a96c4",
   "metadata": {},
   "source": [
    "Em seguida, precisamos obter o local correspondente, de preferência o rótulo do índice, na tabela cujo comprimento do nome é o maior.  \n",
    "O método *idxmax()*, faz exatamente isso. Não é um método de string e é aplicado a inteiros, portanto, \"no\" stré usado."
   ]
  },
  {
   "cell_type": "code",
   "execution_count": 9,
   "id": "63d7570d",
   "metadata": {},
   "outputs": [
    {
     "data": {
      "text/plain": [
       "'Penasco y Castellana, Mrs. Victor de Satode (Maria Josefa Perez de Soto y Vallejo)'"
      ]
     },
     "execution_count": 9,
     "metadata": {},
     "output_type": "execute_result"
    }
   ],
   "source": [
    "titanic.loc[titanic[\"Name\"].str.len().idxmax(), \"Name\"]"
   ]
  },
  {
   "cell_type": "markdown",
   "id": "d51343a9",
   "metadata": {},
   "source": [
    "Com base no nome do índice da linha (307) e da coluna (Name),  \n",
    "podemos fazer uma seleção usando o loc operador, introduzido no tutorial sobre subconjuntos.\n",
    "\n",
    "Na coluna “Sexo”, substitua os valores de “masculino” por “M” e os valores de “feminino” por “F”."
   ]
  },
  {
   "cell_type": "code",
   "execution_count": 10,
   "id": "f506e00d",
   "metadata": {},
   "outputs": [
    {
     "data": {
      "text/plain": [
       "0      M\n",
       "1      F\n",
       "2      F\n",
       "3      F\n",
       "4      M\n",
       "      ..\n",
       "886    M\n",
       "887    F\n",
       "888    F\n",
       "889    M\n",
       "890    M\n",
       "Name: Sex_short, Length: 891, dtype: object"
      ]
     },
     "execution_count": 10,
     "metadata": {},
     "output_type": "execute_result"
    }
   ],
   "source": [
    "titanic[\"Sex_short\"] = titanic[\"Sex\"].replace({\"male\": \"M\", \"female\": \"F\"})\n",
    "titanic[\"Sex_short\"]"
   ]
  },
  {
   "cell_type": "markdown",
   "id": "534557f2",
   "metadata": {},
   "source": [
    "Embora *replace()* não seja um método de string, ele fornece uma maneira conveniente de usar mapeamentos ou vocabulários para traduzir determinados valores.  \n",
    "Requer um dictionarypara definir o mapeamento .{from : to}\n",
    "\n",
    "Também existe um métdodo *replace()*, disponível para substituir um conjunto específico de caracteres.  \n",
    "No entanto, ao mapear vários valores, isso se tornaria:\n",
    "\n",
    "```\n",
    "titanic[\"Sex_short\"] = titanic[\"Sex\"].str.replace(\"female\", \"F\")\n",
    "titanic[\"Sex_short\"] = titanic[\"Sex_short\"].str.replace(\"male\", \"M\")\n",
    "```\n",
    "\n",
    "Isso se tornaria trabalhoso e facilmente levaria a erros. \n",
    "Imagine (ou tente você mesmo) o que aconteceria se essas duas afirmações fossem aplicadas na ordem inversa...\n",
    "\n",
    "**LEMBRAR**\n",
    "\n",
    "* Os métodos de string estão disponíveis usando o stracessador.\n",
    "* Os métodos de string funcionam por elemento e podem ser usados ​​para indexação condicional.\n",
    "* O replacemétodo é um método conveniente para converter valores de acordo com um determinado dicionário."
   ]
  }
 ],
 "metadata": {
  "kernelspec": {
   "display_name": "Python 3",
   "language": "python",
   "name": "python3"
  },
  "language_info": {
   "codemirror_mode": {
    "name": "ipython",
    "version": 3
   },
   "file_extension": ".py",
   "mimetype": "text/x-python",
   "name": "python",
   "nbconvert_exporter": "python",
   "pygments_lexer": "ipython3",
   "version": "3.10.12"
  }
 },
 "nbformat": 4,
 "nbformat_minor": 5
}

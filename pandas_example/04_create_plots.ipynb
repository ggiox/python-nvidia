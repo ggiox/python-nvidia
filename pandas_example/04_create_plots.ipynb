{
 "cells": [
  {
   "cell_type": "markdown",
   "id": "520151fb",
   "metadata": {},
   "source": [
    "# Como criar gráficos no Pandas?\n",
    "\n",
    "Inicie importando o panda e a biblioteca matplotlib.  "
   ]
  },
  {
   "cell_type": "code",
   "execution_count": null,
   "id": "20f67831",
   "metadata": {},
   "outputs": [],
   "source": [
    "import pandas as pd\n",
    "import matplotlib.pyplot as plt"
   ]
  },
  {
   "cell_type": "markdown",
   "id": "b25522f3",
   "metadata": {},
   "source": [
    "Para este tutorial, vamos usar dados de qualidade do ar, disponibilizado pelo OpenAQ e usando o pacote py-openaq.  \n",
    "O arquivo air_quality_no2.csv, fornece um conjunto de dados de valores para as estações de medição:\n",
    "- FR04014 (Paris)\n",
    "- BETR801 (Antuérpia)\n",
    "- London Westminster (Londres)"
   ]
  },
  {
   "cell_type": "code",
   "execution_count": null,
   "id": "7e185acc",
   "metadata": {},
   "outputs": [],
   "source": [
    "air_quality = pd.read_csv(\"data/air_quality_no2.csv\", index_col=0, parse_dates=True)\n",
    "air_quality.head()"
   ]
  },
  {
   "cell_type": "markdown",
   "id": "0ca54f2f",
   "metadata": {},
   "source": [
    "O uso dos parâmetros index_cole e parse_datesda, na função read_csv,  \n",
    "são usadas para definir a primeira coluna (0) como índice do resultado DataFramee e  \n",
    "converter as datas na coluna em Timestamp objetos.\n",
    "\n",
    "Com isso, vamos fazer uma verificação visual rapida.  \n",
    "Com um DataFrame, o pandas cria por padrão um gráfico de linha para cada uma das colunas com dados numéricos.\n"
   ]
  },
  {
   "cell_type": "code",
   "execution_count": null,
   "id": "2472cb3a",
   "metadata": {},
   "outputs": [],
   "source": [
    "air_quality.plot()\n",
    "plt.show()"
   ]
  },
  {
   "cell_type": "markdown",
   "id": "d7a7071d",
   "metadata": {},
   "source": [
    "Quero plotar apenas as colunas da tabela de dados com os dados de Paris."
   ]
  },
  {
   "cell_type": "code",
   "execution_count": null,
   "id": "0f5e9807",
   "metadata": {},
   "outputs": [],
   "source": [
    "air_quality[\"station_paris\"].plot()\n",
    "plt.show()"
   ]
  },
  {
   "cell_type": "markdown",
   "id": "1da6ead1",
   "metadata": {},
   "source": [
    "Quero comparar visualmente o valores medidos em Londres versus Paris."
   ]
  },
  {
   "cell_type": "code",
   "execution_count": null,
   "id": "380f6f0c",
   "metadata": {},
   "outputs": [],
   "source": [
    "air_quality.plot.scatter(x=\"station_london\", y=\"station_paris\", alpha=0.5)\n",
    "plt.show()"
   ]
  },
  {
   "cell_type": "markdown",
   "id": "cfc050ca",
   "metadata": {},
   "source": [
    "Além do linegráfico padrão ao usar a função plot, há diversas alternativas disponíveis para plotar dados.  \n",
    "Vamos usar um pouco de Python padrão para obter uma visão geral dos métodos de plotagem disponíveis:"
   ]
  },
  {
   "cell_type": "code",
   "execution_count": null,
   "id": "756f11c3",
   "metadata": {},
   "outputs": [],
   "source": [
    "plot_funcs = [\n",
    "    method_name\n",
    "    for method_name in dir(air_quality.plot)\n",
    "    if not method_name.startswith(\"_\")\n",
    "]\n",
    "print(f\"Lista das funções: {plot_funcs}\")"
   ]
  },
  {
   "cell_type": "markdown",
   "id": "47d8a076",
   "metadata": {},
   "source": [
    "Uma das opções é DataFrame.plot.box(), que se refere a um boxplot.  \n",
    "O box método é aplicável aos dados de exemplo de qualidade do ar:"
   ]
  },
  {
   "cell_type": "code",
   "execution_count": null,
   "id": "1a06b012",
   "metadata": {},
   "outputs": [],
   "source": [
    "air_quality.plot.box()\n",
    "plt.show()"
   ]
  },
  {
   "cell_type": "markdown",
   "id": "ecab25e3",
   "metadata": {},
   "source": [
    "Quero cada uma das colunas em uma subtrama separada.  \n",
    "\n",
    "Subplots separados para cada coluna de dados são suportados pelo argumento subplots das funções plot.  \n",
    "Vale a pena conferir as opções integradas disponíveis em cada uma das funções do Pandas Plot."
   ]
  },
  {
   "cell_type": "code",
   "execution_count": null,
   "id": "2297f00a",
   "metadata": {},
   "outputs": [],
   "source": [
    "axs = air_quality.plot.area(figsize=(12, 4), subplots=True)\n",
    "plt.show()"
   ]
  },
  {
   "cell_type": "markdown",
   "id": "22b11a63",
   "metadata": {},
   "source": [
    "Quero personalizar ainda mais, estender ou salvar o gráfico resultante."
   ]
  },
  {
   "cell_type": "code",
   "execution_count": null,
   "id": "0c354c47",
   "metadata": {},
   "outputs": [],
   "source": [
    "fig, axs = plt.subplots(figsize=(12, 4))\n",
    "air_quality.plot.area(ax=axs)\n",
    "axs.set_ylabel(\"Concentração de NO2\")\n",
    "fig.savefig(\"../images/no2_concentrations.png\")\n",
    "plt.show()"
   ]
  },
  {
   "cell_type": "markdown",
   "id": "d3885213",
   "metadata": {},
   "source": [
    "Cada um dos objetos de plotagem criados pelo pandas é um objeto Matplotlib.  \n",
    "Como o Matplotlib oferece diversas opções para personalizar plotagens,  \n",
    "tornar explícito o vínculo entre o pandas e o Matplotlib, \n",
    "permite que todo o poder do Matplotlib seja aproveitado na plotagem.  \n",
    "Essa estratégia é aplicada no exemplo anterior:  \n",
    "\n",
    "        fig, axs = plt.subplots(figsize=(12, 4))        # Create an empty Matplotlib Figure and Axes\n",
    "        air_quality.plot.area(ax=axs)                   # Use pandas to put the area plot on the prepared Figure/Axes\n",
    "        axs.set_ylabel(\"NO$_2$ concentration\")          # Do any Matplotlib customization you like\n",
    "        fig.savefig(\"no2_concentrations.png\")           # Save the Figure/Axes using the existing Matplotlib method.\n",
    "        plt.show()                                      # Display the plot\n",
    "\n",
    "**LEMBRAR**\n",
    "\n",
    "Os métodos .plot.*, são aplicáveis ​​tanto em séries quanto em DataFrames.  \n",
    "Por padrão, cada uma das colunas é plotada como um elemento diferente (linha, boxplot,…).  \n",
    "Qualquer gráfico criado pelo pandas é um objeto Matplotlib.\n"
   ]
  }
 ],
 "metadata": {
  "kernelspec": {
   "display_name": "Python 3",
   "language": "python",
   "name": "python3"
  },
  "language_info": {
   "codemirror_mode": {
    "name": "ipython",
    "version": 3
   },
   "file_extension": ".py",
   "mimetype": "text/x-python",
   "name": "python",
   "nbconvert_exporter": "python",
   "pygments_lexer": "ipython3",
   "version": "3.10.12"
  }
 },
 "nbformat": 4,
 "nbformat_minor": 5
}

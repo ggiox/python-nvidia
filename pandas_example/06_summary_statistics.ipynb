{
 "cells": [
  {
   "cell_type": "markdown",
   "id": "fcda3dc6",
   "metadata": {},
   "source": [
    "# Como calcular estatísticas resumidas\n",
    "\n",
    "Lembre-se de inicializar o pandas e ler o arquivo titanic.csv"
   ]
  },
  {
   "cell_type": "code",
   "execution_count": null,
   "id": "d621e607",
   "metadata": {},
   "outputs": [],
   "source": [
    "import pandas as pd\n",
    "\n",
    "titanic = pd.read_csv(\"data/titanic.csv\")\n",
    "titanic.head()"
   ]
  },
  {
   "cell_type": "markdown",
   "id": "95623661",
   "metadata": {},
   "source": [
    "Qual é a idade média dos passageiros do Titanic?\n",
    "\n",
    "Diferentes estatísticas estão disponíveis e podem ser aplicadas a colunas com dados numéricos.  \n",
    "As operações em geral excluem dados ausentes e operam em todas as linhas por padrão."
   ]
  },
  {
   "cell_type": "code",
   "execution_count": null,
   "id": "3b2ee281",
   "metadata": {},
   "outputs": [],
   "source": [
    "titanic[\"Age\"].mean()"
   ]
  },
  {
   "cell_type": "markdown",
   "id": "dcda1eec",
   "metadata": {},
   "source": [
    "Qual é a idade média e o preço da passagem dos passageiros do Titanic?\n",
    "\n",
    "A estatística aplicada a múltiplas colunas do DataFrame (a seleção de duas colunas retorna um DataFrame), é calculada para cada coluna numérica."
   ]
  },
  {
   "cell_type": "code",
   "execution_count": null,
   "id": "3fd38a68",
   "metadata": {},
   "outputs": [],
   "source": [
    "titanic[[\"Age\", \"Fare\"]].median()"
   ]
  },
  {
   "cell_type": "markdown",
   "id": "983f2a2f",
   "metadata": {},
   "source": [
    "A estatística de agregação pode ser calculada para várias colunas ao mesmo tempo.  \n",
    "Lembra da função describe do primeiro tutorial ?"
   ]
  },
  {
   "cell_type": "code",
   "execution_count": null,
   "id": "4a2d7031",
   "metadata": {},
   "outputs": [],
   "source": [
    "titanic[[\"Age\", \"Fare\"]].describe()"
   ]
  },
  {
   "cell_type": "markdown",
   "id": "f826909a",
   "metadata": {},
   "source": [
    "Em vez de estatísticas predefinidas, combinações específicas de estatísticas de agregação para colunas,  \n",
    "podem ser fornecidas e definidas usando o método : DataFrame.agg()"
   ]
  },
  {
   "cell_type": "code",
   "execution_count": null,
   "id": "06ec3921",
   "metadata": {},
   "outputs": [],
   "source": [
    "titanic.agg(\n",
    "    {\n",
    "        \"Age\": [\"min\", \"max\", \"median\", \"skew\"],\n",
    "        \"Fare\": [\"min\", \"max\", \"median\", \"mean\"],\n",
    "    }\n",
    ")"
   ]
  },
  {
   "cell_type": "markdown",
   "id": "49846c69",
   "metadata": {},
   "source": [
    "# Agregando estatísticas agrupadas por categoria\n",
    "\n",
    "Qual é a idade média dos passageiros homens e mulheres do Titanic?  \n",
    "\n",
    "Como nosso interesse é a idade média para cada gênero, uma subseleção nestas duas colunas é feita primeiro.  \n",
    "Em seguida, o método é aplicado à coluna para criar um grupo por categoria.  \n",
    "A idade média para cada gênero é calculada e retornada."
   ]
  },
  {
   "cell_type": "code",
   "execution_count": null,
   "id": "605e4468",
   "metadata": {},
   "outputs": [],
   "source": [
    "titanic[[\"Sex\", \"Age\"]].groupby(\"Sex\").mean()"
   ]
  },
  {
   "cell_type": "markdown",
   "id": "7825a92b",
   "metadata": {},
   "source": [
    "Calcular uma determinada estatística (por exemplo, meanidade) para cada categoria,  \n",
    "em uma coluna (por exemplo, masculino/feminino na Sexcoluna) é um padrão comum.  \n",
    "O método groupby é usado para dar suporte a esse tipo de operação.  \n",
    "Isso se encaixa no split-apply-combinepadrão mais geral:\n",
    "\n",
    "* Dividir os dados em grupos\n",
    "* Aplique uma função a cada grupo independentemente\n",
    "* Combine os resultados em uma estrutura de dados\n",
    "* As etapas de aplicação e combinação geralmente são feitas juntas no Pandas.\n",
    "\n",
    "No exemplo anterior, selecionamos explicitamente as duas colunas primeiro.  \n",
    "Caso contrário, o método mean, é aplicado a cada coluna que contém colunas numéricas, passando numeric_only=True:"
   ]
  },
  {
   "cell_type": "code",
   "execution_count": null,
   "id": "bad9ccb3",
   "metadata": {},
   "outputs": [],
   "source": [
    "titanic.groupby(\"Sex\").mean(numeric_only=True)"
   ]
  },
  {
   "cell_type": "markdown",
   "id": "981f6edf",
   "metadata": {},
   "source": [
    "Não faz muito sentido obter o valor médio de Pclass.  \n",
    "Se estivermos interessados ​​apenas na idade média de cada gênero,  \n",
    "a seleção de colunas (colchetes retangulares, como de costume [])  \n",
    "também é suportada nos dados agrupados:"
   ]
  },
  {
   "cell_type": "code",
   "execution_count": null,
   "id": "39a9ee1c",
   "metadata": {},
   "outputs": [],
   "source": [
    "titanic.groupby(\"Sex\")[\"Age\"].mean()"
   ]
  },
  {
   "cell_type": "markdown",
   "id": "0631889a",
   "metadata": {},
   "source": [
    "A coluna Pclass, contém dados numéricos, mas, na verdade,  \n",
    "representa 3 categorias (ou fatores) com os rótulos \"1\", \"2\" e \"3\", respectivamente.  \n",
    "Calcular estatísticas sobre eles não faz muito sentido.  \n",
    "Portanto, o Pandas fornece um tipo *Categorical* de dado para lidar com esse tipo de dado.  \n",
    "Mais informações podem ser encontradas na seção Dados categóricos do guia do usuário .\n",
    "\n",
    "Qual é o preço médio da passagem para cada uma das combinações de sexo e classe de cabine?\n",
    "\n",
    "O agrupamento pode ser feito por várias colunas ao mesmo tempo.  \n",
    "Forneça os nomes das colunas como uma lista para o método groupby()."
   ]
  },
  {
   "cell_type": "code",
   "execution_count": null,
   "id": "953e63a8",
   "metadata": {},
   "outputs": [],
   "source": [
    "titanic.groupby([\"Sex\", \"Pclass\"])[\"Fare\"].mean()"
   ]
  },
  {
   "cell_type": "markdown",
   "id": "2a1e8c2e",
   "metadata": {},
   "source": [
    "Qual é o número de passageiros em cada uma das classes de cabine?\n",
    "\n",
    "O método value_counts(), conta o número de registros para cada categoria em uma coluna."
   ]
  },
  {
   "cell_type": "code",
   "execution_count": null,
   "id": "840cf415",
   "metadata": {},
   "outputs": [],
   "source": [
    "titanic[\"Pclass\"].value_counts()"
   ]
  },
  {
   "cell_type": "markdown",
   "id": "b8ed401e",
   "metadata": {},
   "source": [
    "A função é um atalho, pois na verdade é uma operação groupby em combinação com a contagem do número de registros dentro de cada grupo:\n",
    "\n",
    "Ambos sizee countpodem ser usados ​​em combinação com groupby.  \n",
    "Enquanto sizeincludes NaNvalues ​​e apenas fornece o número de linhas (tamanho da tabela), countexclui os valores ausentes.  \n",
    "No método value_counts, use o argumento dropna, para incluir ou excluir os valores NaN."
   ]
  },
  {
   "cell_type": "code",
   "execution_count": null,
   "id": "4f5c2c58",
   "metadata": {},
   "outputs": [],
   "source": [
    "titanic.groupby(\"Pclass\")[\"Pclass\"].count()"
   ]
  },
  {
   "cell_type": "markdown",
   "id": "5af287ef",
   "metadata": {},
   "source": [
    "**LEMBRAR**\n",
    "\n",
    "* Estatísticas de agregação podem ser calculadas em colunas ou linhas inteiras.\n",
    "* groupby fornece o poder do padrão dividir-aplicar-combinar .\n",
    "* value_countsé um atalho conveniente para contar o número de entradas em cada categoria de uma variável."
   ]
  }
 ],
 "metadata": {
  "kernelspec": {
   "display_name": "Python 3",
   "language": "python",
   "name": "python3"
  },
  "language_info": {
   "codemirror_mode": {
    "name": "ipython",
    "version": 3
   },
   "file_extension": ".py",
   "mimetype": "text/x-python",
   "name": "python",
   "nbconvert_exporter": "python",
   "pygments_lexer": "ipython3",
   "version": "3.10.12"
  }
 },
 "nbformat": 4,
 "nbformat_minor": 5
}

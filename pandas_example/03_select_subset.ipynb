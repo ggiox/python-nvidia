{
 "cells": [
  {
   "cell_type": "markdown",
   "id": "a27258a1",
   "metadata": {},
   "source": [
    "## Como seleciono um subconjunto de um DataFrame?\n",
    "\n",
    "Lembre-se de inicializar o pandas e ler o arquivo titanic.csv"
   ]
  },
  {
   "cell_type": "code",
   "execution_count": null,
   "id": "91c5743f",
   "metadata": {},
   "outputs": [],
   "source": [
    "# Inicializando o pandas e lendo o arquivo titanic.csv\n",
    "import pandas as pd\n",
    "titanic = pd.read_csv(\"data/titanic.csv\")\n",
    "titanic.head()"
   ]
  },
  {
   "cell_type": "markdown",
   "id": "381c72c6",
   "metadata": {},
   "source": [
    "Para selecionar uma única coluna, use colchetes []com o nome da coluna de interesse.  \n",
    "Cada coluna em a DataFrameé um Series. Como uma única coluna é selecionada, o objeto retornado é um pandas Series.  \n",
    "Podemos verificar isso verificando o tipo de saída:"
   ]
  },
  {
   "cell_type": "code",
   "execution_count": null,
   "id": "65d9f502",
   "metadata": {},
   "outputs": [],
   "source": [
    "ages = titanic[\"Age\"]\n",
    "ages.head()"
   ]
  },
  {
   "cell_type": "code",
   "execution_count": null,
   "id": "434ae76c",
   "metadata": {},
   "outputs": [],
   "source": [
    "type(titanic[\"Age\"])"
   ]
  },
  {
   "cell_type": "markdown",
   "id": "8485a843",
   "metadata": {},
   "source": [
    "Você pode ver o numero de linhas usando o atributo shape"
   ]
  },
  {
   "cell_type": "code",
   "execution_count": null,
   "id": "549cd9d4",
   "metadata": {},
   "outputs": [],
   "source": [
    "titanic[\"Age\"].shape"
   ]
  },
  {
   "cell_type": "markdown",
   "id": "7d6a2498",
   "metadata": {},
   "source": [
    "Para selecionar várias colunas, use uma lista de nomes de colunas dentro dos colchetes de seleção [].  \n",
    "Os colchetes internos definem uma lista Python com nomes de colunas, enquanto os colchetes externos são usados ​​para selecionar os dados de um pandas, DataFramecomo visto no exemplo anterior."
   ]
  },
  {
   "cell_type": "code",
   "execution_count": null,
   "id": "40812821",
   "metadata": {},
   "outputs": [],
   "source": [
    "age_sex = titanic[[\"Age\", \"Sex\"]]\n",
    "age_sex.head()"
   ]
  },
  {
   "cell_type": "markdown",
   "id": "f064a4d0",
   "metadata": {},
   "source": [
    "A seleção retornou um DataFrame com 891 linhas e 2 colunas.  \n",
    "Lembre-se de que um DataFrame é bidimensional, com dimensões de linha e coluna."
   ]
  },
  {
   "cell_type": "code",
   "execution_count": null,
   "id": "dbe5b05f",
   "metadata": {},
   "outputs": [],
   "source": [
    "type(titanic[[\"Age\", \"Sex\"]])"
   ]
  },
  {
   "cell_type": "code",
   "execution_count": null,
   "id": "d6ac95d0",
   "metadata": {},
   "outputs": [],
   "source": [
    "titanic[[\"Age\", \"Sex\"]].shape"
   ]
  },
  {
   "cell_type": "markdown",
   "id": "28436627",
   "metadata": {},
   "source": [
    "## Como posso filtrar linhas específicas de um DataFrame?\n",
    "\n",
    "Para selecionar linhas com base em uma expressão condicional, use uma condição dentro dos colchetes de seleção [].  \n",
    "\n",
    "Selecionando passagerios com mais de 35 anos."
   ]
  },
  {
   "cell_type": "code",
   "execution_count": null,
   "id": "3e932410",
   "metadata": {},
   "outputs": [],
   "source": [
    "above_35 = titanic[titanic[\"Age\"] > 35]\n",
    "above_35.head()"
   ]
  },
  {
   "cell_type": "markdown",
   "id": "ffe38159",
   "metadata": {},
   "source": [
    "A condição dentro dos colchetes de seleção verifica em quais linhas a coluna tem um valor maior que 35  \n",
    "titanic[\"Age\"] > 35"
   ]
  },
  {
   "cell_type": "code",
   "execution_count": null,
   "id": "0a6dc969",
   "metadata": {},
   "outputs": [],
   "source": [
    "titanic[\"Age\"] > 35"
   ]
  },
  {
   "cell_type": "markdown",
   "id": "ba2dbee5",
   "metadata": {},
   "source": [
    "A saída da expressão condicional ( >, mas também ==, !=, <, <=,… funcionaria) é, na verdade,  \n",
    "um conjunto Seriesde valores booleanos (ou True) False com o mesmo número de linhas que o original DataFrame.  \n",
    "\n",
    "Esse conjunto Seriesde valores booleanos pode ser usado para filtrar o valor DataFrame, colocando-o entre colchetes de seleção [].  \n",
    "Somente as linhas para as quais o valor for True serão selecionadas.  \n",
    "\n",
    "Sabemos, por experiência própria, que o Titanic original DataFrameconsiste em 891 linhas.  \n",
    "Vamos dar uma olhada no número de linhas que satisfazem a condição, verificando o shapeatributo do resultado DataFrame"
   ]
  },
  {
   "cell_type": "code",
   "execution_count": null,
   "id": "e5adbe78",
   "metadata": {},
   "outputs": [],
   "source": [
    "above_35.shape"
   ]
  },
  {
   "cell_type": "markdown",
   "id": "c8061f94",
   "metadata": {},
   "source": [
    "Desta forma, podemos filtrar somente os passageiros da classe 2 e 3."
   ]
  },
  {
   "cell_type": "code",
   "execution_count": null,
   "id": "39713d86",
   "metadata": {},
   "outputs": [],
   "source": [
    "class_23 = titanic[titanic[\"Pclass\"].isin([2, 3])]\n",
    "class_23.head()"
   ]
  },
  {
   "cell_type": "markdown",
   "id": "81123e2d",
   "metadata": {},
   "source": [
    "Semelhante à expressão condicional, a função condicional isin(), retorna um Truevalor para cada linha na lista fornecida.  \n",
    "Para filtrar as linhas com base nessa função, use a função condicional dentro dos colchetes de seleção [].  \n",
    "Nesse caso, a condição dentro dos colchetes de seleção verifica em quais linhas a coluna é 2 ou 3.  \n",
    "titanic[\"Pclass\"].isin([2, 3])"
   ]
  },
  {
   "cell_type": "markdown",
   "id": "32c26a5c",
   "metadata": {},
   "source": [
    "O procedimento acima é equivalente a filtrar por linhas cuja classe é 2 ou 3 e combinar as duas instruções com um operador | (ou):"
   ]
  },
  {
   "cell_type": "code",
   "execution_count": null,
   "id": "3c9dc397",
   "metadata": {},
   "outputs": [],
   "source": [
    "class_23 = titanic[(titanic[\"Pclass\"] == 2) | (titanic[\"Pclass\"] == 3)]\n",
    "class_23.head()"
   ]
  },
  {
   "cell_type": "markdown",
   "id": "1e1c0d6d",
   "metadata": {},
   "source": [
    "Quero trabalhar com dados de passageiros cuja idade é conhecida.\n",
    "\n",
    "A função condicional notna(), retorna um valor True para cada linha em que os valores não são um valor nulo (Null).  \n",
    "Dessa forma, isso pode ser combinado com os colchetes de seleção [], para filtrar a tabela de dados."
   ]
  },
  {
   "cell_type": "code",
   "execution_count": null,
   "id": "4b724089",
   "metadata": {},
   "outputs": [],
   "source": [
    "age_no_na = titanic[titanic[\"Age\"].notna()]\n",
    "age_no_na.head()"
   ]
  },
  {
   "cell_type": "markdown",
   "id": "4e226927",
   "metadata": {},
   "source": [
    "Você pode estar se perguntando o que realmente mudou, já que as primeiras 5 linhas ainda apresentam os mesmos valores.  \n",
    "Uma maneira de verificar é verificar se o formato mudou:"
   ]
  },
  {
   "cell_type": "code",
   "execution_count": null,
   "id": "25a233f8",
   "metadata": {},
   "outputs": [],
   "source": [
    "age_no_na.shape, titanic.shape"
   ]
  },
  {
   "cell_type": "markdown",
   "id": "95a4ac8e",
   "metadata": {},
   "source": [
    "**Como seleciono linhas e colunas específicas de um DataFrame?**  \n",
    "\n",
    "Ao usar nomes de colunas, rótulos de linhas ou uma expressão condicional, use o locoperador antes dos colchetes de seleção [].  \n",
    "Tanto para a parte anterior quanto posterior à vírgula, você pode usar:  \n",
    "* um único rótulo\n",
    "* uma lista de rótulos\n",
    "* uma fatia de rótulos\n",
    "* uma expressão condicional\n",
    "* ou dois pontos "
   ]
  },
  {
   "cell_type": "code",
   "execution_count": null,
   "id": "acd764f7",
   "metadata": {},
   "outputs": [],
   "source": [
    "adult_names = titanic.loc[titanic[\"Age\"] > 35, \"Name\"]\n",
    "adult_names.head()"
   ]
  },
  {
   "cell_type": "markdown",
   "id": "0c371cb2",
   "metadata": {},
   "source": [
    "Usar dois pontos especifica que você deseja selecionar todas as linhas ou colunas.  \n",
    "\n",
    "Novamente, um subconjunto de linhas e colunas é criado de uma só vez, e usar apenas colchetes de seleção []não é mais suficiente.  \n",
    "Quando estiver interessado especificamente em determinadas linhas e/ou colunas com base em sua posição na tabela,  \n",
    " use o ilocoperador antes dos colchetes de seleção []."
   ]
  },
  {
   "cell_type": "code",
   "execution_count": null,
   "id": "3c52468f",
   "metadata": {},
   "outputs": [],
   "source": [
    "titanic.iloc[9:25, 2:5]"
   ]
  },
  {
   "cell_type": "markdown",
   "id": "08b5ce89",
   "metadata": {},
   "source": [
    "Ao selecionar linhas e/ou colunas específicas com locou iloc, novos valores podem ser atribuídos aos dados selecionados.  \n",
    "Por exemplo, para atribuir o nome anonymousaos 3 primeiros elementos da quarta coluna:"
   ]
  },
  {
   "cell_type": "code",
   "execution_count": null,
   "id": "d9681cf6",
   "metadata": {},
   "outputs": [],
   "source": [
    "titanic.iloc[0:3, 3] = \"anonymous\"\n",
    "titanic.head()"
   ]
  },
  {
   "cell_type": "markdown",
   "id": "24ffc531",
   "metadata": {},
   "source": [
    "**LEMBRAR**  \n",
    "\n",
    "* Ao selecionar subconjuntos de dados, colchetes [] são usados.\n",
    "* Dentro desses colchetes, você pode usar um único rótulo de coluna/linha, uma lista de rótulos de coluna/linha, uma fatia de rótulos, uma expressão condicional ou dois pontos.\n",
    "* Selecione linhas e/ou colunas específicas usando locos nomes de linhas e colunas.\n",
    "* Selecione linhas e/ou colunas específicas usando ilocao usar as posições na tabela.\n",
    "* Você pode atribuir novos valores a uma seleção com base em loc/ iloc."
   ]
  }
 ],
 "metadata": {
  "kernelspec": {
   "display_name": "Python 3",
   "language": "python",
   "name": "python3"
  },
  "language_info": {
   "codemirror_mode": {
    "name": "ipython",
    "version": 3
   },
   "file_extension": ".py",
   "mimetype": "text/x-python",
   "name": "python",
   "nbconvert_exporter": "python",
   "pygments_lexer": "ipython3",
   "version": "3.10.12"
  }
 },
 "nbformat": 4,
 "nbformat_minor": 5
}

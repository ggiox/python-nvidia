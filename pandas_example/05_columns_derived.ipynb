{
 "cells": [
  {
   "cell_type": "markdown",
   "id": "82adf818",
   "metadata": {},
   "source": [
    "# Como criar novas colunas derivadas de colunas existentes \n",
    "\n",
    "Inicie importando o panda e lendo o arquivo air_quality_no2.csv"
   ]
  },
  {
   "cell_type": "code",
   "execution_count": null,
   "id": "d2ee20d2",
   "metadata": {},
   "outputs": [],
   "source": [
    "import pandas as pd\n",
    "\n",
    "air_quality = pd.read_csv(\"data/air_quality_no2.csv\", index_col=0, parse_dates=True)\n",
    "air_quality.head()"
   ]
  },
  {
   "cell_type": "markdown",
   "id": "d1ef27d7",
   "metadata": {},
   "source": [
    "Eu quero expressar a concentração da estação em Londres em mg/m.  \n",
    "*Se assumirmos uma temperatura de 25 graus Celsius e uma pressão de 1013 hPa, o fator de conversão é 1,882*  \n",
    "\n",
    "Para criar uma nova coluna, use os colchetes [], com o novo nome da coluna no lado esquerdo da atribuição.\n",
    "\n",
    "O cálculo dos valores é feito elemento a elemento.  \n",
    "Isso significa que todos os valores na coluna fornecida são multiplicados pelo valor 1,882 de uma só vez.  \n",
    "Você não precisa usar um loop para iterar cada uma das linhas!"
   ]
  },
  {
   "cell_type": "code",
   "execution_count": null,
   "id": "98ea1687",
   "metadata": {},
   "outputs": [],
   "source": [
    "air_quality[\"london_mg_per_cubic\"] = air_quality[\"station_london\"] * 1.882\n",
    "air_quality.head()"
   ]
  },
  {
   "cell_type": "markdown",
   "id": "31bacdc3",
   "metadata": {},
   "source": [
    "Quero verificar a proporção dos valores em Paris versus Antuérpia e salvar o resultado em uma nova coluna.  \n",
    "O cálculo é novamente feito por elemento, então a divisão é aplicado aos valores em cada linha.\n",
    "\n",
    "Outros operadores matemáticos ( +, -, *, /,…) ou operadores lógicos ( <, >, ==,…) também funcionam por elemento.  \n",
    "Este último já foi usado no tutorial de dados de subconjunto para filtrar linhas de uma tabela usando uma expressão condicional.\n",
    "\n",
    "Se precisar de lógica mais avançada, você pode usar código Python arbitrário via apply()."
   ]
  },
  {
   "cell_type": "code",
   "execution_count": null,
   "id": "9cb20ea2",
   "metadata": {},
   "outputs": [],
   "source": [
    "air_quality[\"ratio_paris_antwerp\"] = (\n",
    "    air_quality[\"station_paris\"] / air_quality[\"station_antwerp\"]\n",
    ")\n",
    "air_quality.head()"
   ]
  },
  {
   "cell_type": "markdown",
   "id": "243435c4",
   "metadata": {},
   "source": [
    "Quero renomear as colunas de dados para os identificadores de estação correspondentes usados ​​pelo OpenAQ.  \n",
    "A função rename(), pode ser usada tanto para rótulos de linha quanto de coluna.  \n",
    "Forneça um dicionário com as chaves (os nomes atuais) e os valores (os novos nomes) para atualizar os nomes correspondentes."
   ]
  },
  {
   "cell_type": "code",
   "execution_count": null,
   "id": "2562820c",
   "metadata": {},
   "outputs": [],
   "source": [
    "air_quality_renamed = air_quality.rename(\n",
    "    columns={\n",
    "        \"station_antwerp\": \"BETR801\",\n",
    "        \"station_paris\": \"FR04014\",\n",
    "        \"station_london\": \"London Westminster\",\n",
    "    }\n",
    ")\n",
    "air_quality_renamed.head()"
   ]
  },
  {
   "cell_type": "markdown",
   "id": "980a06c6",
   "metadata": {},
   "source": [
    "O mapeamento não deve se restringir apenas a nomes fixos, mas também pode ser uma função de mapeamento.  \n",
    "Por exemplo, a conversão dos nomes das colunas para letras minúsculas também pode ser feita usando uma função:"
   ]
  },
  {
   "cell_type": "code",
   "execution_count": null,
   "id": "486747ec",
   "metadata": {},
   "outputs": [],
   "source": [
    "air_quality_renamed = air_quality_renamed.rename(columns=str.lower)\n",
    "air_quality_renamed.head()"
   ]
  },
  {
   "cell_type": "markdown",
   "id": "03a73f34",
   "metadata": {},
   "source": [
    "**LEMBRAR**\n",
    "\n",
    "* Crie uma nova coluna atribuindo a saída ao DataFrame com um novo nome de coluna entre [].\n",
    "* As operações são feitas por elemento, não há necessidade de fazer um loop nas linhas.\n",
    "* Use renamecom um dicionário ou função para renomear rótulos de linhas ou nomes de colunas."
   ]
  }
 ],
 "metadata": {
  "kernelspec": {
   "display_name": "Python 3",
   "language": "python",
   "name": "python3"
  },
  "language_info": {
   "codemirror_mode": {
    "name": "ipython",
    "version": 3
   },
   "file_extension": ".py",
   "mimetype": "text/x-python",
   "name": "python",
   "nbconvert_exporter": "python",
   "pygments_lexer": "ipython3",
   "version": "3.10.12"
  }
 },
 "nbformat": 4,
 "nbformat_minor": 5
}

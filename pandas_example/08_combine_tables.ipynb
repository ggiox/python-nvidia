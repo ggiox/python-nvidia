{
 "cells": [
  {
   "cell_type": "markdown",
   "id": "e7942118",
   "metadata": {},
   "source": [
    "# Como combinar dados de várias tabelas\n",
    "\n",
    "Iniciando os pacotes e lendo os arquivos"
   ]
  },
  {
   "cell_type": "code",
   "execution_count": null,
   "id": "ec9072c1",
   "metadata": {},
   "outputs": [],
   "source": [
    "import pandas as pd\n",
    "\n",
    "air_quality_no2 = pd.read_csv(\"data/air_quality_no2_long.csv\", parse_dates=True)\n",
    "air_quality_no2 = air_quality_no2[[\"date.utc\", \"location\", \"parameter\", \"value\"]]\n",
    "air_quality_no2.head()"
   ]
  },
  {
   "cell_type": "code",
   "execution_count": null,
   "id": "881a0402",
   "metadata": {},
   "outputs": [],
   "source": [
    "air_quality_pm25 = pd.read_csv(\"data/air_quality_pm25_long.csv\", parse_dates=True)\n",
    "air_quality_pm25 = air_quality_pm25[[\"date.utc\", \"location\", \"parameter\", \"value\"]]\n",
    "air_quality_pm25.head()"
   ]
  },
  {
   "cell_type": "markdown",
   "id": "46695d22",
   "metadata": {},
   "source": [
    "Concatenando objetos  \n",
    "\n",
    "Quero combinar as medidas de NO2 e PM25, duas tabelas com estrutura semelhante, em uma única tabela.\n",
    "A função concat(), executa operações de concatenação de várias tabelas ao longo de um dos eixos (linha ou coluna)."
   ]
  },
  {
   "cell_type": "code",
   "execution_count": null,
   "id": "2470c9fb",
   "metadata": {},
   "outputs": [],
   "source": [
    "air_quality = pd.concat([air_quality_pm25, air_quality_no2], axis=0)\n",
    "air_quality.head()"
   ]
  },
  {
   "cell_type": "markdown",
   "id": "751ea49d",
   "metadata": {},
   "source": [
    "Por padrão, a concatenação é feita ao longo do eixo 0, de modo que a tabela resultante combina as linhas das tabelas de entrada.  \n",
    "Vamos verificar o formato das tabelas original e concatenada para comprovar a operação:"
   ]
  },
  {
   "cell_type": "code",
   "execution_count": null,
   "id": "74a01536",
   "metadata": {},
   "outputs": [],
   "source": [
    "print('Shape of the \"air_quality_pm25\" table: ', air_quality_pm25.shape)\n",
    "print('Shape of the \"air_quality_no2\" table: ', air_quality_no2.shape)\n",
    "print('Shape of the resulting \"air_quality\" table: ', air_quality.shape)"
   ]
  },
  {
   "cell_type": "markdown",
   "id": "8fcc92f4",
   "metadata": {},
   "source": [
    "Portanto, a tabela resultante tem 3178 = 1110 + 2068 linhas.\n",
    "\n",
    "O argumento axis retornará em diversos métodos pandas que podem ser aplicados ao longo de um eixo.  \n",
    "O DataFrame possui dois eixos correspondentes:\n",
    "\n",
    "* O primeiro, que se estende verticalmente para baixo, através das linhas (eixo 0)\n",
    "* O segundo, que se estende horizontalmente, através das colunas (eixo 1).  \n",
    "\n",
    "A maioria das operações, como concatenação ou estatísticas de resumo, são aplicadas, por padrão,  \n",
    "entre linhas (eixo 0), mas também podem ser aplicadas entre colunas.\n",
    "\n",
    "A classificação da tabela com base nas informações de data e hora ilustra também a combinação de ambas as tabelas,  \n",
    "com a parametercoluna definindo a origem da tabela ( no2 da tabela air_quality_no2 ou pm25 da tabela air_quality_pm25):"
   ]
  },
  {
   "cell_type": "code",
   "execution_count": null,
   "id": "c2b53b9d",
   "metadata": {},
   "outputs": [],
   "source": [
    "air_quality = air_quality.sort_values(\"date.utc\")\n",
    "air_quality.head()"
   ]
  },
  {
   "cell_type": "markdown",
   "id": "fe6f2228",
   "metadata": {},
   "source": [
    "Neste exemplo específico, a coluna *parameter*, fornecida pelos dados, garante que cada uma das tabelas originais possa ser identificada.  \n",
    "Isso nem sempre acontece. A função *concat*, fornece uma solução conveniente com o argumento *keys*,  \n",
    "adicionando um índice de linha (hierárquico) adicional.  \n",
    "Por exemplo:"
   ]
  },
  {
   "cell_type": "code",
   "execution_count": null,
   "id": "eec3d3f1",
   "metadata": {},
   "outputs": [],
   "source": [
    "air_quality_ = pd.concat([air_quality_pm25, air_quality_no2], keys=[\"PM25\", \"NO2\"])\n",
    "air_quality_.head()"
   ]
  },
  {
   "cell_type": "markdown",
   "id": "1bef2c85",
   "metadata": {},
   "source": [
    "A existência de múltiplos índices de linha/coluna simultaneamente não foi mencionada nestes tutoriais.  \n",
    "A indexação hierárquica, ou MultiIndex, é um recurso avançado e poderoso do Pandas para analisar dados de dimensões superiores.\n",
    "\n",
    "A multiindexação está fora do escopo desta introdução ao Pandas.  \n",
    "Por enquanto, lembre-se de que a função reset_index pode ser usada para converter qualquer nível de um índice em uma coluna,  \n",
    "por exemplo air_quality.reset_index(level=0)"
   ]
  },
  {
   "cell_type": "markdown",
   "id": "dd95f3d4",
   "metadata": {},
   "source": [
    "# Junte tabelas usando um identificador comum\n",
    "\n",
    "Adicione as coordenadas da estação, fornecidas pela tabela de metadados das estações, às linhas correspondentes na tabela de medições."
   ]
  },
  {
   "cell_type": "code",
   "execution_count": null,
   "id": "f3933666",
   "metadata": {},
   "outputs": [],
   "source": [
    "stations_coord = pd.read_csv(\"../data/air_quality_stations.csv\")\n",
    "stations_coord.head()"
   ]
  },
  {
   "cell_type": "markdown",
   "id": "59d79c9a",
   "metadata": {},
   "source": [
    "As estações usadas neste exemplo (FR04014, BETR801 e London Westminster) são apenas três entradas listadas na tabela de metadados.  \n",
    "Queremos apenas adicionar as coordenadas dessas três à tabela de medições, cada uma nas linhas correspondentes da air_quality tabela."
   ]
  },
  {
   "cell_type": "code",
   "execution_count": null,
   "id": "35b57713",
   "metadata": {},
   "outputs": [],
   "source": [
    "air_quality.head()"
   ]
  },
  {
   "cell_type": "markdown",
   "id": "524446fc",
   "metadata": {},
   "source": [
    "Usando a função *merge()*, para cada uma das linhas da tabela air_quality, as coordenadas correspondentes são adicionadas air_quality_stations_coord.  \n",
    "Ambas as tabelas têm a coluna locationem comum, que é usada como chave para combinar as informações.  \n",
    "\n",
    "Ao escolher a junção *left*, apenas os locais disponíveis na tabela air_quality (à esquerda), ou seja,  \n",
    "FR04014, BETR801 e London Westminster, são incluídos na tabela resultante.  \n",
    "\n",
    "A função *merge*, suporta múltiplas opções de junção, semelhantes às operações em estilo de banco de dados."
   ]
  },
  {
   "cell_type": "code",
   "execution_count": null,
   "id": "9e575290",
   "metadata": {},
   "outputs": [],
   "source": [
    "air_quality = pd.merge(air_quality, stations_coord, how=\"left\", on=\"location\")\n",
    "air_quality.head()"
   ]
  },
  {
   "cell_type": "markdown",
   "id": "9d243802",
   "metadata": {},
   "source": [
    "Adicione a descrição completa e o nome dos parâmetros, fornecidos pela tabela de metadados de parâmetros, à tabela de medições."
   ]
  },
  {
   "cell_type": "code",
   "execution_count": null,
   "id": "d17f2de0",
   "metadata": {},
   "outputs": [],
   "source": [
    "air_quality_parameters = pd.read_csv(\"../data/air_quality_parameters.csv\")\n",
    "air_quality_parameters.head()"
   ]
  },
  {
   "cell_type": "code",
   "execution_count": null,
   "id": "54c62fa4",
   "metadata": {},
   "outputs": [],
   "source": [
    "air_quality = pd.merge(air_quality, air_quality_parameters, how='left', left_on='parameter', right_on='id')\n",
    "air_quality.head()"
   ]
  },
  {
   "cell_type": "markdown",
   "id": "05cf7a44",
   "metadata": {},
   "source": [
    "Em comparação com o exemplo anterior, não há um nome de coluna comum.  \n",
    "No entanto, a coluna *parameter* na tabela air_quality e a idcoluna na tabela air_quality_parameters_name,  \n",
    "fornecem a variável medida em um formato comum. \n",
    "\n",
    "Os argumentos left_one são usados ​​aqui (em vez de apenas ) para fazer a ligação entre as duas tabelas *.right_onon*\n",
    "\n",
    "**LEMBRAR**\n",
    "\n",
    "Várias tabelas podem ser concatenadas tanto em colunas quanto em linhas usando a função *concat*.  \n",
    "Para mesclar/unir tabelas como em um banco de dados, use a merge função ."
   ]
  }
 ],
 "metadata": {
  "kernelspec": {
   "display_name": "Python 3",
   "language": "python",
   "name": "python3"
  },
  "language_info": {
   "codemirror_mode": {
    "name": "ipython",
    "version": 3
   },
   "file_extension": ".py",
   "mimetype": "text/x-python",
   "name": "python",
   "nbconvert_exporter": "python",
   "pygments_lexer": "ipython3",
   "version": "3.10.12"
  }
 },
 "nbformat": 4,
 "nbformat_minor": 5
}

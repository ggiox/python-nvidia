{
 "cells": [
  {
   "cell_type": "markdown",
   "id": "06f80cef",
   "metadata": {},
   "source": [
    "## Como leio e escrevo dados tabulares?\n",
    "\n",
    "O pandas fornece a função read_csv(), para ler dados armazenados como um arquivo csv em um pandas DataFrame.  \n",
    "O pandas suporta muitos formatos de arquivo ou fontes de dados diferentes prontos para uso (csv, excel, sql, json, parquet, …), cada um deles com o prefixo read_*."
   ]
  },
  {
   "cell_type": "code",
   "execution_count": null,
   "id": "8bf6076c",
   "metadata": {},
   "outputs": [],
   "source": [
    "import pandas as pd"
   ]
  },
  {
   "cell_type": "markdown",
   "id": "40c8bfaa",
   "metadata": {},
   "source": [
    "Lendo o arquivo titanic.csv salvo na pasta data da raiz do projeto.  \n",
    "\n",
    "Exemplo, do comando para ler uma planilha de um arquivo Excel  \n",
    "titanic = pd.read_excel(\"../data/titanic.xlsx\", sheet_name=\"passengers\")"
   ]
  },
  {
   "cell_type": "code",
   "execution_count": null,
   "id": "67a5807f",
   "metadata": {},
   "outputs": [],
   "source": [
    "titanic = pd.read_csv(\"data/titanic.csv\")"
   ]
  },
  {
   "cell_type": "markdown",
   "id": "e5ff4d6f",
   "metadata": {},
   "source": [
    "Certifique-se de sempre verificar os dados após a leitura.  \n",
    "Ao exibir um DataFrame, as primeiras e últimas 5 linhas serão exibidas por padrão:"
   ]
  },
  {
   "cell_type": "code",
   "execution_count": null,
   "id": "6dacc200",
   "metadata": {},
   "outputs": [],
   "source": [
    "titanic"
   ]
  },
  {
   "cell_type": "markdown",
   "id": "c6f0c988",
   "metadata": {},
   "source": [
    "Use o método heade(), para ver as primeiras linhas de um DataFrame ou o método .tail(), para ver as ultimas linhas.\n",
    "\n",
    "Por padrão, o metodo head() e o tail(), exibe as 5 primeiras e ultimas linhas.  \n",
    "Para exibir mas ou menos linhas, basta passar a quantidade como parâmetro.\n"
   ]
  },
  {
   "cell_type": "code",
   "execution_count": null,
   "id": "6178a49a",
   "metadata": {},
   "outputs": [],
   "source": [
    "titanic.head(3)"
   ]
  },
  {
   "cell_type": "code",
   "execution_count": null,
   "id": "0d24a9d5",
   "metadata": {},
   "outputs": [],
   "source": [
    "titanic.tail(8)"
   ]
  },
  {
   "cell_type": "markdown",
   "id": "d83baa97",
   "metadata": {},
   "source": [
    "Uma verificação de como o pandas interpretou cada um dos tipos de dados da coluna pode ser feita solicitando o atributo dtypes do pandas:"
   ]
  },
  {
   "cell_type": "code",
   "execution_count": null,
   "id": "1aba6ef1",
   "metadata": {},
   "outputs": [],
   "source": [
    "titanic.dtypes"
   ]
  },
  {
   "cell_type": "markdown",
   "id": "2234c8c6",
   "metadata": {},
   "source": [
    "Para cada uma das colunas, o tipo de dado utilizado é listado.  \n",
    "Os tipos de dado DataFramesão inteiros ( int64), flutuantes ( float64) e strings ( object).\n",
    "\n",
    "Para obter um resumo técnico de um dataframe, use o método info()"
   ]
  },
  {
   "cell_type": "code",
   "execution_count": null,
   "id": "4199f097",
   "metadata": {},
   "outputs": [],
   "source": [
    "titanic.info()"
   ]
  },
  {
   "cell_type": "markdown",
   "id": "a24166a5",
   "metadata": {},
   "source": [
    "O método info(), fornece informações técnicas sobre um DataFrame, explicando a saída com mais detalhes:\n",
    "\n",
    "* É realmente um DataFrame.\n",
    "* Há 891 entradas, ou seja, 891 linhas.\n",
    "* Cada linha tem um rótulo de linha (também conhecido como index) com valores que variam de 0 a 890.\n",
    "* A tabela tem 12 colunas. A maioria das colunas tem um valor para cada linha (todos os 891 valores são non-null). Algumas colunas têm valores ausentes e menos de 891 non-nullvalores.\n",
    "* As colunas Name, Sexe consistem em dados textuais (strings, também conhecidas como ). As outras colunas são dados numéricos, alguns dos quais são números inteiros (também conhecidos como ) e outros são números reais (também conhecidos como Cabin) .Embarkedobjectintegerfloat\n",
    "* O tipo de dados (caracteres, inteiros,…) nas diferentes colunas são resumidos listando o dtypes.\n",
    "* A quantidade aproximada de RAM usada para armazenar o DataFrame também é fornecida."
   ]
  }
 ],
 "metadata": {
  "kernelspec": {
   "display_name": "Python 3",
   "language": "python",
   "name": "python3"
  },
  "language_info": {
   "codemirror_mode": {
    "name": "ipython",
    "version": 3
   },
   "file_extension": ".py",
   "mimetype": "text/x-python",
   "name": "python",
   "nbconvert_exporter": "python",
   "pygments_lexer": "ipython3",
   "version": "3.10.12"
  }
 },
 "nbformat": 4,
 "nbformat_minor": 5
}

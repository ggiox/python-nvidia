{
 "cells": [
  {
   "cell_type": "markdown",
   "id": "a7e47e14",
   "metadata": {},
   "source": [
    "## Que tipo de dados o Pandas manipula?\n",
    "\n",
    "Para carregar o pacote pandas e começar a trabalhar com ele, importe-o. O alias acordado pela comunidade para o pandas é pd, portanto, carregar o pandas como pdtal é uma prática padrão para toda a documentação do pandas."
   ]
  },
  {
   "cell_type": "code",
   "execution_count": null,
   "id": "6b2c7d6e",
   "metadata": {},
   "outputs": [],
   "source": [
    "import pandas as pd\n",
    "print(pd.__version__)"
   ]
  },
  {
   "cell_type": "markdown",
   "id": "01ee2f9d",
   "metadata": {},
   "source": [
    "**Armazenando os dados em um Dataframe**\n",
    "\n",
    "DataFrame é uma estrutura de dados bidimensional que pode armazenar dados de diferentes tipos (incluindo caracteres, inteiros, valores de ponto flutuante, dados categóricos e muito mais) em colunas. É semelhante a uma planilha, uma tabela SQL ou a um arquivo data.frameem R."
   ]
  },
  {
   "cell_type": "code",
   "execution_count": null,
   "id": "29898513",
   "metadata": {},
   "outputs": [],
   "source": [
    "df = pd.DataFrame(\n",
    "    {\n",
    "        \"Name\": [\n",
    "            \"Braund, Mr. Owen Harris\",\n",
    "            \"Allen, Mr. William Henry\",\n",
    "            \"Bonnell, Miss. Elizabeth\",\n",
    "        ],\n",
    "        \"Age\": [22, 35, 58],\n",
    "        \"Sex\": [\"male\", \"male\", \"female\"],\n",
    "    }\n",
    ")\n",
    "\n",
    "# Visualizando os dados\n",
    "df"
   ]
  },
  {
   "cell_type": "markdown",
   "id": "f36716db",
   "metadata": {},
   "source": [
    "Cada coluna em um DataFrame, é uma Series  \n",
    "Ao selecionar uma única coluna de um pandas DataFrame, o resultado é um pandas Series.  \n",
    "Para selecionar a coluna, use o rótulo da coluna entre colchetes []."
   ]
  },
  {
   "cell_type": "code",
   "execution_count": null,
   "id": "c5ba5fd6",
   "metadata": {},
   "outputs": [],
   "source": [
    "df[\"Age\"]"
   ]
  },
  {
   "cell_type": "markdown",
   "id": "11884465",
   "metadata": {},
   "source": [
    "Você também pode criar uma series do zero.  \n",
    "Um pandas Series, não tem rótulos de coluna, pois é apenas uma única coluna de uma série DataFrame.  \n",
    "Uma série tem rótulos de linha."
   ]
  },
  {
   "cell_type": "code",
   "execution_count": null,
   "id": "36d8dec1",
   "metadata": {},
   "outputs": [],
   "source": [
    "ages = pd.Series([22, 35, 58], name=\"Age\")\n",
    "\n",
    "# Visualizando a Series\n",
    "ages"
   ]
  },
  {
   "cell_type": "markdown",
   "id": "27d78625",
   "metadata": {},
   "source": [
    "O pandas oferece muitas funcionalidades, cada uma delas um método que você pode aplicar a a DataFrameou Series.  \n",
    "Como métodos são funções, não se esqueça de usar parênteses ().\n"
   ]
  },
  {
   "cell_type": "code",
   "execution_count": null,
   "id": "d29f7cea",
   "metadata": {},
   "outputs": [],
   "source": [
    "# retorna a idade máxima do dataframe\n",
    "df[\"Age\"].max()"
   ]
  },
  {
   "cell_type": "code",
   "execution_count": null,
   "id": "06c81129",
   "metadata": {},
   "outputs": [],
   "source": [
    "# retorna a idade minima da series\n",
    "ages.min()"
   ]
  },
  {
   "cell_type": "markdown",
   "id": "6625f76b",
   "metadata": {},
   "source": [
    "O método describe(), fornece uma visão geral rápida dos dados numéricos em um arquivo DataFrame.  \n",
    "Como as colunas Name e Sex, são dados textuais, eles não são considerados pelo describe() método por padrão."
   ]
  },
  {
   "cell_type": "code",
   "execution_count": null,
   "id": "3ca74079",
   "metadata": {},
   "outputs": [],
   "source": [
    "df.describe()"
   ]
  },
  {
   "cell_type": "code",
   "execution_count": null,
   "id": "9ae8c694",
   "metadata": {},
   "outputs": [],
   "source": [
    "ages.describe()"
   ]
  }
 ],
 "metadata": {
  "kernelspec": {
   "display_name": "Python 3",
   "language": "python",
   "name": "python3"
  },
  "language_info": {
   "codemirror_mode": {
    "name": "ipython",
    "version": 3
   },
   "file_extension": ".py",
   "mimetype": "text/x-python",
   "name": "python",
   "nbconvert_exporter": "python",
   "pygments_lexer": "ipython3",
   "version": "3.10.12"
  }
 },
 "nbformat": 4,
 "nbformat_minor": 5
}

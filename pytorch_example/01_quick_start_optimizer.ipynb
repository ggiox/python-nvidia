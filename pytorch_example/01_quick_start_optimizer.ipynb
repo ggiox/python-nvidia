{
 "cells": [
  {
   "cell_type": "markdown",
   "metadata": {},
   "source": [
    "Início rápido\n",
    "==========\n",
    "\n",
    "Esta seção aborda a API para tarefas comuns em aprendizado de máquina.  \n",
    "Consulte os links em cada seção para se aprofundar.\n",
    "\n",
    "Trabalhando com dados\n",
    "-----------------\n",
    "\n",
    "O PyTorch tem dois [primitivos para trabalhar com dados](https://pytorch.org/docs/stable/data.html):\n",
    "`torch.utils.data.DataLoader` e `torch.utils.data.Dataset`.  \n",
    "`Dataset` armazena as amostras e seus rótulos correspondentes e `DataLoader` envolve um iterável em torno do `Dataset`.\n"
   ]
  },
  {
   "cell_type": "code",
   "execution_count": 1,
   "metadata": {
    "collapsed": false
   },
   "outputs": [
    {
     "name": "stdout",
     "output_type": "stream",
     "text": [
      "Pytorch Version: 2.9.0+cu126\n",
      "Device: NVIDIA GeForce GTX 1060\n"
     ]
    }
   ],
   "source": [
    "import torch\n",
    "from torch import nn\n",
    "from torch.utils.data import DataLoader\n",
    "from torch.optim import lr_scheduler\n",
    "from torchvision import datasets\n",
    "from torchvision.transforms import ToTensor\n",
    "import matplotlib.pyplot as plt\n",
    "import random\n",
    "\n",
    "print(f\"Pytorch Version: {torch.__version__}\") \n",
    "print(f\"Device: {torch.cuda.get_device_name()}\")"
   ]
  },
  {
   "cell_type": "markdown",
   "metadata": {},
   "source": [
    "O PyTorch oferece bibliotecas específicas de domínio, como\n",
    "[TorchText](https://pytorch.org/text/stable/index.html),\n",
    "[TorchVision](https://pytorch.org/vision/stable/index.html), and\n",
    "[TorchAudio](https://pytorch.org/audio/stable/index.html), \n",
    "todas elas incluindo conjuntos de dados. \n",
    "Neste tutorial, usaremos um conjunto de dados TorchVision.\n",
    "\n",
    "O módulo `torchvision.datasets` contém `Dataset` objetos para diversos dados de visão do mundo real, como CIFAR e COCO\n",
    "([lista completa aqui](https://pytorch.org/vision/stable/datasets.html)). \n",
    "Neste tutorial, usamos o conjunto de dados FashionMNIST. \n",
    "Cada `Dataset` TorchVision, inclui dois argumentos: `transform` e `target_transform` \n",
    "para modificar as amostras e os rótulos, respectivamente.\n"
   ]
  },
  {
   "cell_type": "code",
   "execution_count": 2,
   "metadata": {
    "collapsed": false
   },
   "outputs": [],
   "source": [
    "# Download training data from open datasets.\n",
    "training_data = datasets.FashionMNIST(\n",
    "    root=\"data\",\n",
    "    train=True,\n",
    "    download=True,\n",
    "    transform=ToTensor(),\n",
    ")\n",
    "\n",
    "# Download test data from open datasets.\n",
    "test_data = datasets.FashionMNIST(\n",
    "    root=\"data\",\n",
    "    train=False,\n",
    "    download=True,\n",
    "    transform=ToTensor(),\n",
    ")"
   ]
  },
  {
   "cell_type": "markdown",
   "metadata": {},
   "source": [
    "Passamos o `Dataset` como argumento para `DataLoader`. Isso envolve um iterável sobre nosso conjunto de dados e suporta processamento em lote, amostragem, embaralhamento e carregamento de dados multiprocesso automáticos. Aqui, definimos um tamanho de lote de 64, ou seja, cada elemento no iterável do carregador de dados retornará um lote de 64 recursos e rótulos.\n"
   ]
  },
  {
   "cell_type": "code",
   "execution_count": 3,
   "metadata": {
    "collapsed": false
   },
   "outputs": [
    {
     "name": "stdout",
     "output_type": "stream",
     "text": [
      "Shape of X [N, C, H, W]: torch.Size([64, 1, 28, 28])\n",
      "Shape of y: torch.Size([64]) torch.int64\n"
     ]
    }
   ],
   "source": [
    "batch_size = 64\n",
    "\n",
    "# Create data loaders.\n",
    "train_dataloader = DataLoader(training_data, batch_size=batch_size)\n",
    "test_dataloader = DataLoader(test_data, batch_size=batch_size)\n",
    "\n",
    "for X, y in test_dataloader:\n",
    "    print(f\"Shape of X [N, C, H, W]: {X.shape}\")\n",
    "    print(f\"Shape of y: {y.shape} {y.dtype}\")\n",
    "    break"
   ]
  },
  {
   "cell_type": "markdown",
   "metadata": {},
   "source": [
    "Leia mais sobre como [carregar dados no PyTorch](https://docs.pytorch.org/tutorials/beginner/basics/data_tutorial.html).\n"
   ]
  },
  {
   "cell_type": "markdown",
   "metadata": {},
   "source": [
    "------------------------------------------------------------------------\n"
   ]
  },
  {
   "cell_type": "markdown",
   "metadata": {},
   "source": [
    "Criando Modelos\n",
    "===============\n",
    "\n",
    "Para definir uma rede neural no PyTorch, criamos uma classe que herda de \n",
    "[nn.Module](https://pytorch.org/docs/stable/generated/torch.nn.Module.html).\n",
    "Definimos as camadas da rede na função `__init__` e\n",
    "especificamos como os dados passarão pela rede na função `forward`.\n",
    "Para acelerar as operações na rede neural, movemos a rede para um\n",
    "[acelerador](https://pytorch.org/docs/stable/torch.html#accelerators)\n",
    "como CUDA, MPS, MTIA ou XPU. Se o acelerador atual estiver disponível, \n",
    "o utilizaremos. Caso contrário, utilizaremos a CPU."
   ]
  },
  {
   "cell_type": "code",
   "execution_count": 4,
   "metadata": {
    "collapsed": false
   },
   "outputs": [
    {
     "name": "stdout",
     "output_type": "stream",
     "text": [
      "Using cuda device\n",
      "NeuralNetwork(\n",
      "  (flatten): Flatten(start_dim=1, end_dim=-1)\n",
      "  (linear_relu_stack): Sequential(\n",
      "    (0): Linear(in_features=784, out_features=512, bias=True)\n",
      "    (1): ReLU()\n",
      "    (2): Linear(in_features=512, out_features=512, bias=True)\n",
      "    (3): ReLU()\n",
      "    (4): Linear(in_features=512, out_features=10, bias=True)\n",
      "  )\n",
      ")\n"
     ]
    }
   ],
   "source": [
    "# Pytourch Acceleration only available in version 2.9 and above\n",
    "#device = torch.accelerator.current_accelerator().type if torch.accelerator.is_available() else \"cpu\"\n",
    "device = \"cuda\" if torch.accelerator.is_available() else \"cpu\"\n",
    "print(f\"Using {device} device\")\n",
    "\n",
    "# Define model\n",
    "class NeuralNetwork(nn.Module):\n",
    "    def __init__(self):\n",
    "        super().__init__()\n",
    "        self.flatten = nn.Flatten()\n",
    "        self.linear_relu_stack = nn.Sequential(\n",
    "            nn.Linear(28*28, 512),\n",
    "            nn.ReLU(),\n",
    "            nn.Linear(512, 512),\n",
    "            nn.ReLU(),\n",
    "            nn.Linear(512, 10)\n",
    "        )\n",
    "\n",
    "    def forward(self, x):\n",
    "        x = self.flatten(x)\n",
    "        logits = self.linear_relu_stack(x)\n",
    "        return logits\n",
    "\n",
    "model = NeuralNetwork().to(device)\n",
    "print(model)"
   ]
  },
  {
   "cell_type": "markdown",
   "metadata": {},
   "source": [
    "Leia mais sobre como [construir redes neurais no PyTorch ](https://docs.pytorch.org/tutorials/beginner/basics/buildmodel_tutorial.html).\n"
   ]
  },
  {
   "cell_type": "markdown",
   "metadata": {},
   "source": [
    "------------------------------------------------------------------------\n"
   ]
  },
  {
   "cell_type": "markdown",
   "metadata": {},
   "source": [
    "Otimizando os Parâmetros do Modelo\n",
    "===============================\n",
    "\n",
    "Para treinar um modelo, precisamos de uma \n",
    "[função de perda](https://pytorch.org/docs/stable/nn.html#loss-functions) e um\n",
    "[otimizador](https://pytorch.org/docs/stable/optim.html).\n"
   ]
  },
  {
   "cell_type": "code",
   "execution_count": 5,
   "metadata": {
    "collapsed": false
   },
   "outputs": [],
   "source": [
    "loss_fn = nn.CrossEntropyLoss()\n",
    "optimizer = torch.optim.SGD(model.parameters(), lr=1e-2)"
   ]
  },
  {
   "cell_type": "markdown",
   "metadata": {},
   "source": [
    "Em um único loop de treinamento, o modelo faz previsões no conjunto de dados de treinamento (alimentados em lotes) e retropropaga o erro de previsão para ajustar os parâmetros do modelo."
   ]
  },
  {
   "cell_type": "code",
   "execution_count": 6,
   "metadata": {
    "collapsed": false
   },
   "outputs": [],
   "source": [
    "def train(dataloader, model, loss_fn, optimizer):\n",
    "    size = len(dataloader.dataset)\n",
    "    model.train()\n",
    "    for batch, (X, y) in enumerate(dataloader):\n",
    "        X, y = X.to(device), y.to(device)\n",
    "\n",
    "        # Compute prediction error\n",
    "        pred = model(X)\n",
    "        loss = loss_fn(pred, y)\n",
    "\n",
    "        # Backpropagation\n",
    "        loss.backward()\n",
    "        optimizer.step()        \n",
    "        optimizer.zero_grad()\n",
    "\n",
    "        if batch % 100 == 0:\n",
    "            loss, current = loss.item(), (batch + 1) * len(X)\n",
    "            print(f\"loss: {loss:>7f}  [{current:>5d}/{size:>5d}]\")"
   ]
  },
  {
   "cell_type": "markdown",
   "metadata": {},
   "source": [
    "Também verificamos o desempenho do modelo em relação ao conjunto de dados de teste para garantir que ele esteja aprendendo.\n"
   ]
  },
  {
   "cell_type": "code",
   "execution_count": 7,
   "metadata": {
    "collapsed": false
   },
   "outputs": [],
   "source": [
    "def test(dataloader, model, loss_fn):\n",
    "    size = len(dataloader.dataset)\n",
    "    num_batches = len(dataloader)\n",
    "    model.eval()\n",
    "    test_loss, correct = 0, 0\n",
    "    with torch.no_grad():\n",
    "        for X, y in dataloader:\n",
    "            X, y = X.to(device), y.to(device)\n",
    "            pred = model(X)\n",
    "            test_loss += loss_fn(pred, y).item()\n",
    "            correct += (pred.argmax(1) == y).type(torch.float).sum().item()\n",
    "    test_loss /= num_batches\n",
    "    correct /= size\n",
    "    print(f\"Test Error: \\n Accuracy: {(100*correct):>0.1f}%, Avg loss: {test_loss:>8f} \\n\")"
   ]
  },
  {
   "cell_type": "markdown",
   "metadata": {},
   "source": [
    "O processo de treinamento é conduzido ao longo de várias iterações ( épocas ). Durante cada época, o modelo aprende parâmetros para fazer previsões melhores. Imprimimos a precisão e a perda do modelo em cada época; gostaríamos de ver a precisão aumentar e a perda diminuir a cada época.\n"
   ]
  },
  {
   "cell_type": "code",
   "execution_count": 8,
   "metadata": {
    "collapsed": false
   },
   "outputs": [
    {
     "name": "stdout",
     "output_type": "stream",
     "text": [
      "Epoch 1  lr: 0.010000\n",
      "-------------------------------\n",
      "loss: 2.302054  [   64/60000]\n",
      "loss: 2.176207  [ 6464/60000]\n",
      "loss: 1.829522  [12864/60000]\n",
      "loss: 1.531255  [19264/60000]\n",
      "loss: 1.182514  [25664/60000]\n",
      "loss: 1.066007  [32064/60000]\n",
      "loss: 1.025747  [38464/60000]\n",
      "loss: 0.894046  [44864/60000]\n",
      "loss: 0.884338  [51264/60000]\n",
      "loss: 0.825370  [57664/60000]\n",
      "Test Error: \n",
      " Accuracy: 70.1%, Avg loss: 0.807688 \n",
      "\n",
      "Epoch 2  lr: 0.010000\n",
      "-------------------------------\n",
      "loss: 0.821015  [   64/60000]\n",
      "loss: 0.865529  [ 6464/60000]\n",
      "loss: 0.619153  [12864/60000]\n",
      "loss: 0.791547  [19264/60000]\n",
      "loss: 0.673112  [25664/60000]\n",
      "loss: 0.639332  [32064/60000]\n",
      "loss: 0.725154  [38464/60000]\n",
      "loss: 0.700757  [44864/60000]\n",
      "loss: 0.699975  [51264/60000]\n",
      "loss: 0.645399  [57664/60000]\n",
      "Test Error: \n",
      " Accuracy: 77.4%, Avg loss: 0.643260 \n",
      "\n",
      "Epoch 3  lr: 0.010000\n",
      "-------------------------------\n",
      "loss: 0.578585  [   64/60000]\n",
      "loss: 0.668642  [ 6464/60000]\n",
      "loss: 0.460061  [12864/60000]\n",
      "loss: 0.668476  [19264/60000]\n",
      "loss: 0.586748  [25664/60000]\n",
      "loss: 0.551150  [32064/60000]\n",
      "loss: 0.609290  [38464/60000]\n",
      "loss: 0.640191  [44864/60000]\n",
      "loss: 0.659534  [51264/60000]\n",
      "loss: 0.553464  [57664/60000]\n",
      "Test Error: \n",
      " Accuracy: 79.6%, Avg loss: 0.577513 \n",
      "\n",
      "Epoch 4  lr: 0.010000\n",
      "-------------------------------\n",
      "loss: 0.484073  [   64/60000]\n",
      "loss: 0.574724  [ 6464/60000]\n",
      "loss: 0.396695  [12864/60000]\n",
      "loss: 0.595805  [19264/60000]\n",
      "loss: 0.533192  [25664/60000]\n",
      "loss: 0.508245  [32064/60000]\n",
      "loss: 0.553462  [38464/60000]\n",
      "loss: 0.632997  [44864/60000]\n",
      "loss: 0.642389  [51264/60000]\n",
      "loss: 0.491625  [57664/60000]\n",
      "Test Error: \n",
      " Accuracy: 80.3%, Avg loss: 0.545076 \n",
      "\n",
      "Epoch 5  lr: 0.010000\n",
      "-------------------------------\n",
      "loss: 0.429673  [   64/60000]\n",
      "loss: 0.528636  [ 6464/60000]\n",
      "loss: 0.362747  [12864/60000]\n",
      "loss: 0.549748  [19264/60000]\n",
      "loss: 0.494606  [25664/60000]\n",
      "loss: 0.479550  [32064/60000]\n",
      "loss: 0.520450  [38464/60000]\n",
      "loss: 0.628798  [44864/60000]\n",
      "loss: 0.622843  [51264/60000]\n",
      "loss: 0.454369  [57664/60000]\n",
      "Test Error: \n",
      " Accuracy: 81.2%, Avg loss: 0.523909 \n",
      "\n",
      "Epoch 6  lr: 0.010000\n",
      "-------------------------------\n",
      "loss: 0.390106  [   64/60000]\n",
      "loss: 0.502498  [ 6464/60000]\n",
      "loss: 0.339440  [12864/60000]\n",
      "loss: 0.520510  [19264/60000]\n",
      "loss: 0.468358  [25664/60000]\n",
      "loss: 0.460108  [32064/60000]\n",
      "loss: 0.496656  [38464/60000]\n",
      "loss: 0.617573  [44864/60000]\n",
      "loss: 0.604385  [51264/60000]\n",
      "loss: 0.433775  [57664/60000]\n",
      "Test Error: \n",
      " Accuracy: 81.6%, Avg loss: 0.508510 \n",
      "\n",
      "Epoch 7  lr: 0.001000\n",
      "-------------------------------\n",
      "loss: 0.358932  [   64/60000]\n",
      "loss: 0.488762  [ 6464/60000]\n",
      "loss: 0.312554  [12864/60000]\n",
      "loss: 0.504772  [19264/60000]\n",
      "loss: 0.452364  [25664/60000]\n",
      "loss: 0.445876  [32064/60000]\n",
      "loss: 0.472366  [38464/60000]\n",
      "loss: 0.633695  [44864/60000]\n",
      "loss: 0.583226  [51264/60000]\n",
      "loss: 0.423867  [57664/60000]\n",
      "Test Error: \n",
      " Accuracy: 83.0%, Avg loss: 0.476304 \n",
      "\n",
      "Epoch 8  lr: 0.001000\n",
      "-------------------------------\n",
      "loss: 0.342421  [   64/60000]\n",
      "loss: 0.484846  [ 6464/60000]\n",
      "loss: 0.308987  [12864/60000]\n",
      "loss: 0.502780  [19264/60000]\n",
      "loss: 0.448430  [25664/60000]\n",
      "loss: 0.443326  [32064/60000]\n",
      "loss: 0.469860  [38464/60000]\n",
      "loss: 0.633066  [44864/60000]\n",
      "loss: 0.582388  [51264/60000]\n",
      "loss: 0.421635  [57664/60000]\n",
      "Test Error: \n",
      " Accuracy: 83.1%, Avg loss: 0.474797 \n",
      "\n",
      "Epoch 9  lr: 0.001000\n",
      "-------------------------------\n",
      "loss: 0.339946  [   64/60000]\n",
      "loss: 0.482704  [ 6464/60000]\n",
      "loss: 0.306867  [12864/60000]\n",
      "loss: 0.500884  [19264/60000]\n",
      "loss: 0.445180  [25664/60000]\n",
      "loss: 0.441024  [32064/60000]\n",
      "loss: 0.467465  [38464/60000]\n",
      "loss: 0.632025  [44864/60000]\n",
      "loss: 0.581349  [51264/60000]\n",
      "loss: 0.419759  [57664/60000]\n",
      "Test Error: \n",
      " Accuracy: 83.1%, Avg loss: 0.473374 \n",
      "\n",
      "Epoch 10  lr: 0.001000\n",
      "-------------------------------\n",
      "loss: 0.337528  [   64/60000]\n",
      "loss: 0.480919  [ 6464/60000]\n",
      "loss: 0.304959  [12864/60000]\n",
      "loss: 0.499021  [19264/60000]\n",
      "loss: 0.442354  [25664/60000]\n",
      "loss: 0.438989  [32064/60000]\n",
      "loss: 0.465199  [38464/60000]\n",
      "loss: 0.630771  [44864/60000]\n",
      "loss: 0.580141  [51264/60000]\n",
      "loss: 0.418099  [57664/60000]\n",
      "Test Error: \n",
      " Accuracy: 83.1%, Avg loss: 0.472010 \n",
      "\n",
      "Epoch 11  lr: 0.001000\n",
      "-------------------------------\n",
      "loss: 0.335135  [   64/60000]\n",
      "loss: 0.479233  [ 6464/60000]\n",
      "loss: 0.303165  [12864/60000]\n",
      "loss: 0.497252  [19264/60000]\n",
      "loss: 0.439657  [25664/60000]\n",
      "loss: 0.437126  [32064/60000]\n",
      "loss: 0.463088  [38464/60000]\n",
      "loss: 0.629416  [44864/60000]\n",
      "loss: 0.578838  [51264/60000]\n",
      "loss: 0.416546  [57664/60000]\n",
      "Test Error: \n",
      " Accuracy: 83.1%, Avg loss: 0.470699 \n",
      "\n",
      "Epoch 12  lr: 0.001000\n",
      "-------------------------------\n",
      "loss: 0.332767  [   64/60000]\n",
      "loss: 0.477560  [ 6464/60000]\n",
      "loss: 0.301479  [12864/60000]\n",
      "loss: 0.495526  [19264/60000]\n",
      "loss: 0.437086  [25664/60000]\n",
      "loss: 0.435378  [32064/60000]\n",
      "loss: 0.461080  [38464/60000]\n",
      "loss: 0.628014  [44864/60000]\n",
      "loss: 0.577445  [51264/60000]\n",
      "loss: 0.415123  [57664/60000]\n",
      "Test Error: \n",
      " Accuracy: 83.2%, Avg loss: 0.469425 \n",
      "\n",
      "Done!\n"
     ]
    }
   ],
   "source": [
    "epochs = 12\n",
    "scheduler = lr_scheduler.StepLR(optimizer, step_size=6, gamma=0.1)\n",
    "for t in range(epochs):\n",
    "    lr_actual = optimizer.param_groups[0]['lr']\n",
    "    print(f\"Epoch {t+1}  lr: {lr_actual:>7f}\\n-------------------------------\")\n",
    "    train(train_dataloader, model, loss_fn, optimizer)\n",
    "    test(test_dataloader, model, loss_fn)\n",
    "    scheduler.step()\n",
    "print(\"Done!\")"
   ]
  },
  {
   "cell_type": "markdown",
   "metadata": {},
   "source": [
    "Leia mais sobre [Treinamento do seu modelo](https://docs.pytorch.org/tutorials/beginner/basics/optimization_tutorial.html).\n"
   ]
  },
  {
   "cell_type": "markdown",
   "metadata": {},
   "source": [
    "------------------------------------------------------------------------\n"
   ]
  },
  {
   "cell_type": "markdown",
   "metadata": {},
   "source": [
    "Salvando Modelos\n",
    "=============\n",
    "\n",
    "Uma maneira comum de salvar um modelo é serializar o dicionário de estado interno (contendo os parâmetros do modelo).\n"
   ]
  },
  {
   "cell_type": "code",
   "execution_count": 9,
   "metadata": {
    "collapsed": false
   },
   "outputs": [
    {
     "name": "stdout",
     "output_type": "stream",
     "text": [
      "Saved PyTorch Model State to model.pth\n"
     ]
    }
   ],
   "source": [
    "torch.save(model.state_dict(), \"model.pth\")\n",
    "print(\"Saved PyTorch Model State to model.pth\")"
   ]
  },
  {
   "cell_type": "markdown",
   "metadata": {},
   "source": [
    "Carregando modelos\n",
    "==============\n",
    "\n",
    "O processo de carregamento de um modelo inclui recriar a estrutura do modelo e carregar o dicionário de estado nele.\n"
   ]
  },
  {
   "cell_type": "code",
   "execution_count": 10,
   "metadata": {
    "collapsed": false
   },
   "outputs": [
    {
     "data": {
      "text/plain": [
       "<All keys matched successfully>"
      ]
     },
     "execution_count": 10,
     "metadata": {},
     "output_type": "execute_result"
    }
   ],
   "source": [
    "model = NeuralNetwork().to(device)\n",
    "model.load_state_dict(torch.load(\"model.pth\", weights_only=True))"
   ]
  },
  {
   "cell_type": "markdown",
   "metadata": {},
   "source": [
    "Este modelo agora pode ser usado para fazer previsões.\n"
   ]
  },
  {
   "cell_type": "code",
   "execution_count": 12,
   "metadata": {
    "collapsed": false
   },
   "outputs": [
    {
     "data": {
      "image/png": "[encoded data removed]",
      "text/plain": [
       "<Figure size 640x480 with 1 Axes>"
      ]
     },
     "metadata": {},
     "output_type": "display_data"
    }
   ],
   "source": [
    "classes = [\n",
    "    \"T-shirt/top\",\n",
    "    \"Trouser\",\n",
    "    \"Pullover\",\n",
    "    \"Dress\",\n",
    "    \"Coat\",\n",
    "    \"Sandal\",\n",
    "    \"Shirt\",\n",
    "    \"Sneaker\",\n",
    "    \"Bag\",\n",
    "    \"Ankle boot\",\n",
    "]\n",
    "\n",
    "model.eval()\n",
    "\n",
    "with torch.no_grad():\n",
    "    for i in random.sample(range(101, 200), 1):\n",
    "        x, y = test_data[i][0], test_data[i][1]\n",
    "\n",
    "        x = x.to(device)\n",
    "        pred = model(x)\n",
    "        predicted, actual = classes[pred[0].argmax(0)], classes[y]\n",
    "\n",
    "        imagem_np = x.squeeze().cpu().numpy()\n",
    "        plt.imshow(imagem_np, cmap=\"gray\")\n",
    "        plt.title(f'id: {i} - Img: {classes[y]} > Prev: {predicted}')\n",
    "        plt.show()  \n",
    "\n",
    "        #print(f'Predicted: \"{predicted}\", Actual: \"{actual}\"')"
   ]
  },
  {
   "cell_type": "markdown",
   "metadata": {},
   "source": [
    "Leia mais sobre [como salvar e carregar seu modelo](https://docs.pytorch.org/tutorials/beginner/basics/saveloadrun_tutorial.html).\n"
   ]
  }
 ],
 "metadata": {
  "kernelspec": {
   "display_name": "Python 3",
   "language": "python",
   "name": "python3"
  },
  "language_info": {
   "codemirror_mode": {
    "name": "ipython",
    "version": 3
   },
   "file_extension": ".py",
   "mimetype": "text/x-python",
   "name": "python",
   "nbconvert_exporter": "python",
   "pygments_lexer": "ipython3",
   "version": "3.10.12"
  }
 },
 "nbformat": 4,
 "nbformat_minor": 0
}

{
 "cells": [
  {
   "cell_type": "markdown",
   "metadata": {},
   "source": [
    "Conjuntos de dados e carregadores de dados\n",
    "======================\n"
   ]
  },
  {
   "cell_type": "markdown",
   "metadata": {},
   "source": [
    "O código para processar amostras de dados pode ser confuso e difícil de manter; \n",
    "o ideal é que o código do nosso conjunto de dados seja desacoplado do código de treinamento \n",
    "do modelo para melhor legibilidade e modularidade. \n",
    "O PyTorch fornece duas primitivas de dados: `torch.utils.data.DataLoader` e `torch.utils.data.Dataset`\n",
    "que permitem usar conjuntos de dados pré-carregados, bem como seus próprios dados.\n",
    "O `Dataset` armazena as amostras e seus rótulos correspondentes, E\n",
    "`DataLoader` envolve um iterável em torno do `Dataset` para facilitar o acesso às amostras.\n",
    "\n",
    "As bibliotecas de domínio do PyTorch fornecem diversos conjuntos de dados \n",
    "pré-carregados (como FashionMNIST) que subclassificam `torch.utils.data.Dataset` e implementam funções específicas para os dados em questão. Elas podem ser usadas para prototipar e comparar seu modelo. Você pode encontrá-las aqui: \n",
    "[ImageDatasets](https://pytorch.org/vision/stable/datasets.html), \n",
    "[TextDatasets](https://pytorch.org/text/stable/datasets.html), and \n",
    "[AudioDatasets](https://pytorch.org/audio/stable/datasets.html)\n"
   ]
  },
  {
   "cell_type": "markdown",
   "metadata": {},
   "source": [
    "Carregando um conjunto de dados\n",
    "=================\n",
    "\n",
    "Aqui está um exemplo de como carregar o conjunto de dados\n",
    "[Fashion-MNIST](https://research.zalando.com/project/fashion_mnist/fashion_mnist/)\n",
    "do TorchVision. Fashion-MNIST é um conjunto de dados de imagens de artigos da Zalando, \n",
    "composto por 60.000 exemplos de treinamento e 10.000 exemplos de teste. \n",
    "Cada exemplo compreende uma imagem em tons de cinza de 28×28 e um rótulo associado de uma das 10 classes\n",
    "\n",
    "Carregamos o [FashionMNIST Dataset](https://pytorch.org/vision/stable/datasets.html#fashion-mnist) com os seguintes parâmetros:  \n",
    "\n",
    "* `root` é o caminho onde os dados do trem/teste são armazenados  \n",
    "* `train` especifica conjunto de dados de treinamento ou teste\n",
    "* `download=True` baixa os dados da internet se não estiverem disponíveis em `root`\n",
    "* `transform` e `target_transform` especificar as transformações de recursos e rótulos\n"
   ]
  },
  {
   "cell_type": "code",
   "execution_count": null,
   "metadata": {
    "collapsed": false
   },
   "outputs": [],
   "source": [
    "import torch\n",
    "from torch.utils.data import Dataset\n",
    "from torchvision import datasets\n",
    "from torchvision.transforms import ToTensor\n",
    "import matplotlib.pyplot as plt\n",
    "\n",
    "\n",
    "training_data = datasets.FashionMNIST(\n",
    "    root=\"data\",\n",
    "    train=True,\n",
    "    download=True,\n",
    "    transform=ToTensor()\n",
    ")\n",
    "\n",
    "test_data = datasets.FashionMNIST(\n",
    "    root=\"data\",\n",
    "    train=False,\n",
    "    download=True,\n",
    "    transform=ToTensor()\n",
    ")"
   ]
  },
  {
   "cell_type": "markdown",
   "metadata": {},
   "source": [
    "Iterando e visualizando o conjunto de dados\n",
    "=====================================\n",
    "\n",
    "Podemos indexar `Datasets` manualmente como uma lista: `training_data[index]`.  \n",
    "Usamos `matplotlib` para visualizar algumas amostras em nossos dados de treinamento.\n"
   ]
  },
  {
   "cell_type": "code",
   "execution_count": null,
   "metadata": {
    "collapsed": false
   },
   "outputs": [],
   "source": [
    "labels_map = {\n",
    "    0: \"T-Shirt\",\n",
    "    1: \"Trouser\",\n",
    "    2: \"Pullover\",\n",
    "    3: \"Dress\",\n",
    "    4: \"Coat\",\n",
    "    5: \"Sandal\",\n",
    "    6: \"Shirt\",\n",
    "    7: \"Sneaker\",\n",
    "    8: \"Bag\",\n",
    "    9: \"Ankle Boot\",\n",
    "}\n",
    "figure = plt.figure(figsize=(8, 8))\n",
    "cols, rows = 3, 3\n",
    "for i in range(1, cols * rows + 1):\n",
    "    #sample_idx = torch.randint(len(training_data), size=(1,)).item()\n",
    "    sample_idx = int(torch.randint(len(training_data), size=(1,)).item())\n",
    "    img, label = training_data[sample_idx]\n",
    "    figure.add_subplot(rows, cols, i)\n",
    "    plt.title(labels_map[label])\n",
    "    plt.axis(\"off\")\n",
    "    plt.imshow(img.squeeze(), cmap=\"gray\")\n",
    "plt.show()"
   ]
  },
  {
   "cell_type": "markdown",
   "metadata": {},
   "source": [
    "------------------------------------------------------------------------\n"
   ]
  },
  {
   "cell_type": "markdown",
   "metadata": {},
   "source": [
    "Criando um conjunto de dados personalizado para seus arquivos\n",
    "========================================\n",
    "\n",
    "Uma classe Dataset personalizada deve implementar três funções:\n",
    "[\\_\\_init\\_\\_]{.title-ref}, [\\_\\_len\\_\\_]{.title-ref}, e\n",
    "[\\_\\_getitem\\_\\_]{.title-ref}. Veja esta implementação: \n",
    "as imagens FashionMNIST são armazenadas em um diretório `img_dir`, \n",
    "e seus rótulos são armazenados separadamente em um arquivo CSV `annotations_file`.\n",
    "\n",
    "Nas próximas seções, detalharemos o que acontece em cada uma dessas funções."
   ]
  },
  {
   "cell_type": "code",
   "execution_count": null,
   "metadata": {
    "collapsed": false
   },
   "outputs": [],
   "source": [
    "import os\n",
    "import pandas as pd\n",
    "from torchvision.io import decode_image\n",
    "\n",
    "class CustomImageDataset(Dataset):\n",
    "    def __init__(self, annotations_file, img_dir, transform=None, target_transform=None):\n",
    "        self.img_labels = pd.read_csv(annotations_file)\n",
    "        self.img_dir = img_dir\n",
    "        self.transform = transform\n",
    "        self.target_transform = target_transform\n",
    "\n",
    "    def __len__(self):\n",
    "        return len(self.img_labels)\n",
    "\n",
    "    def __getitem__(self, idx):\n",
    "        #img_path = os.path.join(self.img_dir, self.img_labels.iloc[idx, 0])\n",
    "        img_path = os.path.join(self.img_dir, str(self.img_labels.iloc[idx, 0]))\n",
    "        image = decode_image(img_path)\n",
    "        label = self.img_labels.iloc[idx, 1]\n",
    "        if self.transform:\n",
    "            image = self.transform(image)\n",
    "        if self.target_transform:\n",
    "            label = self.target_transform(label)\n",
    "        return image, label"
   ]
  },
  {
   "cell_type": "markdown",
   "metadata": {},
   "source": [
    "`__init__`\n",
    "==========\n",
    "\n",
    "A função __init__ é executada uma vez ao instanciar o objeto Dataset.  \n",
    "Inicializamos o diretório que contém as imagens, o arquivo de anotações e ambas as transformações (abordadas com mais detalhes na próxima seção).\n",
    "\n",
    "O arquivo labels.csv se parece com:\n",
    "\n",
    "    tshirt1.jpg, 0\n",
    "    tshirt2.jpg, 0\n",
    "    ......\n",
    "    ankleboot999.jpg, 9\n"
   ]
  },
  {
   "cell_type": "code",
   "execution_count": null,
   "metadata": {
    "collapsed": false
   },
   "outputs": [],
   "source": [
    "def __init__(self, annotations_file, img_dir, transform=None, target_transform=None):\n",
    "    self.img_labels = pd.read_csv(annotations_file)\n",
    "    self.img_dir = img_dir\n",
    "    self.transform = transform\n",
    "    self.target_transform = target_transform"
   ]
  },
  {
   "cell_type": "markdown",
   "metadata": {},
   "source": [
    "`__len__`\n",
    "=========\n",
    "\n",
    "A função __len__ retorna o número de amostras em nosso conjunto de dados.\n",
    "\n",
    "Exemplo:\n"
   ]
  },
  {
   "cell_type": "code",
   "execution_count": null,
   "metadata": {
    "collapsed": false
   },
   "outputs": [],
   "source": [
    "def __len__(self):\n",
    "    return len(self.img_labels)"
   ]
  },
  {
   "cell_type": "markdown",
   "metadata": {},
   "source": [
    "`__getitem__`\n",
    "=============\n",
    "\n",
    "A função __getitem__ carrega e retorna uma amostra do conjunto de dados \n",
    "no índice fornecido `idx`. Com base no índice, ela identifica a localização\n",
    " da imagem no disco, converte-a em um tensor usando\n",
    "`decode_image`, recupera o rótulo correspondente dos dados CSV em\n",
    "`self.img_labels`, chama as funções de transformação neles (se aplicável) e \n",
    "retorna a imagem do tensor e o rótulo correspondente em uma tupla."
   ]
  },
  {
   "cell_type": "code",
   "execution_count": null,
   "metadata": {
    "collapsed": false
   },
   "outputs": [],
   "source": [
    "def __getitem__(self, idx):\n",
    "    img_path = os.path.join(self.img_dir, self.img_labels.iloc[idx, 0])\n",
    "    image = decode_image(img_path)\n",
    "    label = self.img_labels.iloc[idx, 1]\n",
    "    if self.transform:\n",
    "        image = self.transform(image)\n",
    "    if self.target_transform:\n",
    "        label = self.target_transform(label)\n",
    "    return image, label"
   ]
  },
  {
   "cell_type": "markdown",
   "metadata": {},
   "source": [
    "------------------------------------------------------------------------\n"
   ]
  },
  {
   "cell_type": "markdown",
   "metadata": {},
   "source": [
    "Preparando seus dados para treinamento com DataLoaders\n",
    "=================================================\n",
    "\n",
    "O `Dataset` recupera as características do nosso conjunto de dados e rotula \n",
    "uma amostra por vez. Ao treinar um modelo, normalmente queremos passar \n",
    "amostras em \"minilotes\", embaralhar os dados a cada época para reduzir o \n",
    "sobreajuste do modelo e usar o Python `multiprocessing` para acelerar a \n",
    "recuperação de dados.\n",
    "\n",
    "`DataLoader` é um iterável que abstrai essa complexidade para nós em uma API fácil.\n"
   ]
  },
  {
   "cell_type": "code",
   "execution_count": null,
   "metadata": {
    "collapsed": false
   },
   "outputs": [],
   "source": [
    "from torch.utils.data import DataLoader\n",
    "\n",
    "train_dataloader = DataLoader(training_data, batch_size=64, shuffle=True)\n",
    "test_dataloader = DataLoader(test_data, batch_size=64, shuffle=True)"
   ]
  },
  {
   "cell_type": "markdown",
   "metadata": {},
   "source": [
    "Iterar pelo DataLoader\n",
    "==============================\n",
    "\n",
    "Carregamos esse conjunto de dados em `DataLoader` e podemos iterar pelo \n",
    "conjunto de dados conforme necessário. Cada iteração abaixo retorna um lote de \n",
    "`train_features` e `train_labels` (contendo `batch_size=64` recursos e rótulos, \n",
    "respectivamente). Como especificamos `shuffle=True`, após iterarmos sobre todos \n",
    "os lotes, os dados são embaralhados (para um controle mais refinado sobre a \n",
    "ordem de carregamento dos dados, consulte\n",
    "[Amostras](https://pytorch.org/docs/stable/data.html#data-loading-order-and-sampler)).\n"
   ]
  },
  {
   "cell_type": "code",
   "execution_count": null,
   "metadata": {
    "collapsed": false
   },
   "outputs": [],
   "source": [
    "# Display image and label.\n",
    "train_features, train_labels = next(iter(train_dataloader))\n",
    "print(f\"Feature batch shape: {train_features.size()}\")\n",
    "print(f\"Labels batch shape: {train_labels.size()}\")\n",
    "img = train_features[0].squeeze()\n",
    "label = train_labels[0]\n",
    "plt.imshow(img, cmap=\"gray\")\n",
    "plt.show()\n",
    "print(f\"Label: {label}\")"
   ]
  },
  {
   "cell_type": "markdown",
   "metadata": {},
   "source": [
    "------------------------------------------------------------------------\n"
   ]
  },
  {
   "cell_type": "markdown",
   "metadata": {},
   "source": [
    "Leitura adicional\n",
    "===============\n",
    "\n",
    "-   [torch.utils.data API](https://pytorch.org/docs/stable/data.html)\n"
   ]
  }
 ],
 "metadata": {
  "kernelspec": {
   "display_name": "Python 3",
   "language": "python",
   "name": "python3"
  },
  "language_info": {
   "codemirror_mode": {
    "name": "ipython",
    "version": 3
   },
   "file_extension": ".py",
   "mimetype": "text/x-python",
   "name": "python",
   "nbconvert_exporter": "python",
   "pygments_lexer": "ipython3",
   "version": "3.10.12"
  }
 },
 "nbformat": 4,
 "nbformat_minor": 0
}

{
 "cells": [
  {
   "cell_type": "markdown",
   "metadata": {},
   "source": [
    "Construindo a Rede Neura\n",
    "========================\n",
    "\n",
    "Redes neurais são compostas por camadas/módulos que realizam operações em dados. \n",
    "O namespace [torch.nn](https://pytorch.org/docs/stable/nn.html) fornece todos \n",
    "os blocos de construção necessários para construir sua própria rede neural. \n",
    "Cada módulo no PyTorch é uma subclasse de\n",
    "[nn.Module](https://pytorch.org/docs/stable/generated/torch.nn.Module.html).\n",
    "Essa estrutura aninhada permite construir e gerenciar arquiteturas complexas facilmente.\n",
    "\n",
    "Nas seções a seguir, construiremos uma rede neural para classificar imagens no conjunto de dados FashionMNIST."
   ]
  },
  {
   "cell_type": "code",
   "execution_count": null,
   "metadata": {
    "collapsed": false
   },
   "outputs": [],
   "source": [
    "import os\n",
    "import torch\n",
    "from torch import nn\n",
    "from torch.utils.data import DataLoader\n",
    "from torchvision import datasets, transforms"
   ]
  },
  {
   "cell_type": "markdown",
   "metadata": {},
   "source": [
    "Obtenha o dispositivo para treinamento\n",
    "=======================\n",
    "\n",
    "Queremos poder treinar nosso modelo em um\n",
    "[acelerador](https://pytorch.org/docs/stable/torch.html#accelerators)\n",
    "como CUDA, MPS, MTIA ou XPU. Se o acelerador atual estiver disponível, \n",
    "o usaremos. Caso contrário, usaremos a CPU.\n"
   ]
  },
  {
   "cell_type": "code",
   "execution_count": null,
   "metadata": {
    "collapsed": false
   },
   "outputs": [],
   "source": [
    "device = torch.accelerator.current_accelerator().type if torch.accelerator.is_available() else \"cpu\" # type: ignore\n",
    "#device = \"cuda\" if torch.accelerator.is_available() else \"cpu\"\n",
    "print(f\"Using {device} device\")"
   ]
  },
  {
   "cell_type": "markdown",
   "metadata": {},
   "source": [
    "Defina a Classe\n",
    "================\n",
    "\n",
    "Definimos nossa rede neural subclassificando  `nn.Module`, \n",
    "e inicializando as camadas da rede neural em `__init__`. Cada subclass `nn.Module`\n",
    "implementa as operações nos dados de entrada do método `forward`."
   ]
  },
  {
   "cell_type": "code",
   "execution_count": null,
   "metadata": {
    "collapsed": false
   },
   "outputs": [],
   "source": [
    "class NeuralNetwork(nn.Module):\n",
    "    def __init__(self):\n",
    "        super().__init__()\n",
    "        self.flatten = nn.Flatten()\n",
    "        self.linear_relu_stack = nn.Sequential(\n",
    "            nn.Linear(28*28, 512),\n",
    "            nn.ReLU(),\n",
    "            nn.Linear(512, 512),\n",
    "            nn.ReLU(),\n",
    "            nn.Linear(512, 10),\n",
    "        )\n",
    "\n",
    "    def forward(self, x):\n",
    "        x = self.flatten(x)\n",
    "        logits = self.linear_relu_stack(x)\n",
    "        return logits"
   ]
  },
  {
   "cell_type": "markdown",
   "metadata": {},
   "source": [
    "Criamos uma instância de `NeuralNetwork`, movemos para o `device`,\n",
    "e imprimimos sua estrutura."
   ]
  },
  {
   "cell_type": "code",
   "execution_count": null,
   "metadata": {
    "collapsed": false
   },
   "outputs": [],
   "source": [
    "model = NeuralNetwork().to(device)\n",
    "print(model)"
   ]
  },
  {
   "cell_type": "markdown",
   "metadata": {},
   "source": [
    "Para usar o modelo, passamos os dados de entrada. Isso executa o\n",
    "`forward`, juntamente com algumas \n",
    "[operações em segundo plano ](https://github.com/pytorch/pytorch/blob/270111b7b611d174967ed204776985cefca9c144/torch/nn/modules/module.py#L866).\n",
    "Não chame `model.forward()` diretamente!\n",
    "\n",
    "A chamada do modelo na entrada retorna um tensor bidimensional \n",
    "com dim=0 correspondendo a cada saída de 10 valores brutos \n",
    "previstos para cada classe, e dim=1 correspondendo aos valores \n",
    "individuais de cada saída. Obtemos as probabilidades de previsão \n",
    "passando-as por uma instância do módulo `nn.Softmax`."
   ]
  },
  {
   "cell_type": "code",
   "execution_count": null,
   "metadata": {
    "collapsed": false
   },
   "outputs": [],
   "source": [
    "X = torch.rand(1, 28, 28, device=device)\n",
    "logits = model(X)\n",
    "pred_probab = nn.Softmax(dim=1)(logits)\n",
    "y_pred = pred_probab.argmax(1)\n",
    "print(f\"Predicted class: {y_pred}\")"
   ]
  },
  {
   "cell_type": "markdown",
   "metadata": {},
   "source": [
    "------------------------------------------------------------------------\n"
   ]
  },
  {
   "cell_type": "markdown",
   "metadata": {},
   "source": [
    "Camadas do modelo\n",
    "============\n",
    "\n",
    "Vamos analisar as camadas do modelo FashionMNIST. Para ilustrar, pegaremos um minilote de amostra com 3 imagens de tamanho 28x28 e veremos o que acontece com ele à medida que o passamos pela rede."
   ]
  },
  {
   "cell_type": "code",
   "execution_count": null,
   "metadata": {
    "collapsed": false
   },
   "outputs": [],
   "source": [
    "input_image = torch.rand(3,28,28)\n",
    "print(input_image.size())"
   ]
  },
  {
   "cell_type": "markdown",
   "metadata": {},
   "source": [
    "nn.Flatten\n",
    "==========\n",
    "\n",
    "Inicializamos a camada \n",
    "[nn.Flatten](https://pytorch.org/docs/stable/generated/torch.nn.Flatten.html)\n",
    "para converter cada imagem 2D 28x28 em uma matriz contígua de 784 \n",
    "valores de pixels (a dimensão do minibatch (em dim=0) é mantida)."
   ]
  },
  {
   "cell_type": "code",
   "execution_count": null,
   "metadata": {
    "collapsed": false
   },
   "outputs": [],
   "source": [
    "flatten = nn.Flatten()\n",
    "flat_image = flatten(input_image)\n",
    "print(flat_image.size())"
   ]
  },
  {
   "cell_type": "markdown",
   "metadata": {},
   "source": [
    "nn.Linear\n",
    "=========\n",
    "\n",
    "A [Camada linear](https://pytorch.org/docs/stable/generated/torch.nn.Linear.html)\n",
    "é um módulo que aplica uma transformação linear na entrada usando seus pesos e vieses armazenados."
   ]
  },
  {
   "cell_type": "code",
   "execution_count": null,
   "metadata": {
    "collapsed": false
   },
   "outputs": [],
   "source": [
    "layer1 = nn.Linear(in_features=28*28, out_features=20)\n",
    "hidden1 = layer1(flat_image)\n",
    "print(hidden1.size())"
   ]
  },
  {
   "cell_type": "markdown",
   "metadata": {},
   "source": [
    "nn.ReLU\n",
    "=======\n",
    "\n",
    "Ativações não lineares são o que criam os mapeamentos complexos \n",
    "entre as entradas e saídas do modelo. Elas são aplicadas após \n",
    "transformações lineares para introduzir a **não linearidade**, \n",
    "ajudando as redes neurais a aprender uma ampla variedade de fenômenos.\n",
    "\n",
    "Neste modelo, usamos\n",
    "[nn.ReLU](https://pytorch.org/docs/stable/generated/torch.nn.ReLU.html)\n",
    "entre nossas camadas lineares, mas há outras ativações \n",
    "para introduzir não linearidade em seu modelo."
   ]
  },
  {
   "cell_type": "code",
   "execution_count": null,
   "metadata": {
    "collapsed": false
   },
   "outputs": [],
   "source": [
    "print(f\"Before ReLU: {hidden1}\\n\\n\")\n",
    "hidden1 = nn.ReLU()(hidden1)\n",
    "print(f\"After ReLU: {hidden1}\")"
   ]
  },
  {
   "cell_type": "markdown",
   "metadata": {},
   "source": [
    "nn.Sequential\n",
    "=============\n",
    "\n",
    "[nn.Sequential](https://pytorch.org/docs/stable/generated/torch.nn.Sequential.html)\n",
    " é um contêiner ordenado de módulos. Os dados são passados ​​por todos os módulos na mesma ordem definida. Você pode usar contêineres sequenciais para montar uma rede rápida como `seq_modules`.\n"
   ]
  },
  {
   "cell_type": "code",
   "execution_count": null,
   "metadata": {
    "collapsed": false
   },
   "outputs": [],
   "source": [
    "seq_modules = nn.Sequential(\n",
    "    flatten,\n",
    "    layer1,\n",
    "    nn.ReLU(),\n",
    "    nn.Linear(20, 10)\n",
    ")\n",
    "input_image = torch.rand(3,28,28)\n",
    "logits = seq_modules(input_image)"
   ]
  },
  {
   "cell_type": "markdown",
   "metadata": {},
   "source": [
    "nn.Softmax\n",
    "==========\n",
    "\n",
    "A última camada linear da rede neural retorna `logits` valores brutos em\n",
    " \\[-infty, infty\\] que são passados ​​para o módulo\n",
    "[nn.Softmax](https://pytorch.org/docs/stable/generated/torch.nn.Softmax.html).\n",
    "Os logits são escalados para valores [0, 1] que representam as probabilidades previstas do modelo para cada classe. O parâmetro `dim`, indica a dimensão ao longo da qual os valores devem somar 1.\n"
   ]
  },
  {
   "cell_type": "code",
   "execution_count": null,
   "metadata": {
    "collapsed": false
   },
   "outputs": [],
   "source": [
    "softmax = nn.Softmax(dim=1)\n",
    "pred_probab = softmax(logits)"
   ]
  },
  {
   "cell_type": "markdown",
   "metadata": {},
   "source": [
    "Parâmetros do modelo\n",
    "================\n",
    "\n",
    "Muitas camadas dentro de uma rede neural são parametrizadas, ou seja, \n",
    "possuem pesos e vieses associados que são otimizados durante o treinamento.\n",
    "A subclassificação `nn.Module` rastreia automaticamente todos os campos \n",
    "definidos dentro do objeto do seu modelo e torna todos os parâmetros \n",
    "acessíveis usando os método `parameters()` ou `named_parameters()`.\n",
    "\n",
    "Neste exemplo, iteramos sobre cada parâmetro e imprimimos seu tamanho e uma prévia de seus valores."
   ]
  },
  {
   "cell_type": "code",
   "execution_count": null,
   "metadata": {
    "collapsed": false
   },
   "outputs": [],
   "source": [
    "print(f\"Model structure: {model}\\n\\n\")\n",
    "\n",
    "for name, param in model.named_parameters():\n",
    "    print(f\"Layer: {name} | Size: {param.size()} | Values : {param[:2]} \\n\")"
   ]
  },
  {
   "cell_type": "markdown",
   "metadata": {},
   "source": [
    "------------------------------------------------------------------------\n"
   ]
  },
  {
   "cell_type": "markdown",
   "metadata": {},
   "source": [
    "Leitura adicional\n",
    "===============\n",
    "\n",
    "-   [torch.nn API](https://pytorch.org/docs/stable/nn.html)\n"
   ]
  }
 ],
 "metadata": {
  "kernelspec": {
   "display_name": "Python 3",
   "language": "python",
   "name": "python3"
  },
  "language_info": {
   "codemirror_mode": {
    "name": "ipython",
    "version": 3
   },
   "file_extension": ".py",
   "mimetype": "text/x-python",
   "name": "python",
   "nbconvert_exporter": "python",
   "pygments_lexer": "ipython3",
   "version": "3.10.12"
  }
 },
 "nbformat": 4,
 "nbformat_minor": 0
}

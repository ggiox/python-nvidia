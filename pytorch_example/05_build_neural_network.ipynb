{
 "cells": [
  {
   "cell_type": "markdown",
   "metadata": {},
   "source": [
    "Construindo a Rede Neura\n",
    "========================\n",
    "\n",
    "Redes neurais são compostas por camadas/módulos que realizam operações em dados. \n",
    "O namespace [torch.nn](https://pytorch.org/docs/stable/nn.html) fornece todos \n",
    "os blocos de construção necessários para construir sua própria rede neural. \n",
    "Cada módulo no PyTorch é uma subclasse de\n",
    "[nn.Module](https://pytorch.org/docs/stable/generated/torch.nn.Module.html).\n",
    "Essa estrutura aninhada permite construir e gerenciar arquiteturas complexas facilmente.\n",
    "\n",
    "Nas seções a seguir, construiremos uma rede neural para classificar imagens no conjunto de dados FashionMNIST."
   ]
  },
  {
   "cell_type": "code",
   "execution_count": 17,
   "metadata": {
    "collapsed": false
   },
   "outputs": [],
   "source": [
    "import os\n",
    "import torch\n",
    "from torch import nn\n",
    "from torch.utils.data import DataLoader\n",
    "from torchvision import datasets, transforms"
   ]
  },
  {
   "cell_type": "markdown",
   "metadata": {},
   "source": [
    "Obtenha o dispositivo para treinamento\n",
    "=======================\n",
    "\n",
    "Queremos poder treinar nosso modelo em um\n",
    "[acelerador](https://pytorch.org/docs/stable/torch.html#accelerators)\n",
    "como CUDA, MPS, MTIA ou XPU. Se o acelerador atual estiver disponível, \n",
    "o usaremos. Caso contrário, usaremos a CPU.\n"
   ]
  },
  {
   "cell_type": "code",
   "execution_count": 18,
   "metadata": {
    "collapsed": false
   },
   "outputs": [
    {
     "name": "stdout",
     "output_type": "stream",
     "text": [
      "Using cuda device\n"
     ]
    }
   ],
   "source": [
    "device = torch.accelerator.current_accelerator().type if torch.accelerator.is_available() else \"cpu\" # type: ignore\n",
    "#device = \"cuda\" if torch.accelerator.is_available() else \"cpu\"\n",
    "print(f\"Using {device} device\")"
   ]
  },
  {
   "cell_type": "markdown",
   "metadata": {},
   "source": [
    "Defina a Classe\n",
    "================\n",
    "\n",
    "Definimos nossa rede neural subclassificando  `nn.Module`, \n",
    "e inicializando as camadas da rede neural em `__init__`. Cada subclass `nn.Module`\n",
    "implementa as operações nos dados de entrada do método `forward`."
   ]
  },
  {
   "cell_type": "code",
   "execution_count": 19,
   "metadata": {
    "collapsed": false
   },
   "outputs": [],
   "source": [
    "class NeuralNetwork(nn.Module):\n",
    "    def __init__(self):\n",
    "        super().__init__()\n",
    "        self.flatten = nn.Flatten()\n",
    "        self.linear_relu_stack = nn.Sequential(\n",
    "            nn.Linear(28*28, 512),\n",
    "            nn.ReLU(),\n",
    "            nn.Linear(512, 512),\n",
    "            nn.ReLU(),\n",
    "            nn.Linear(512, 10),\n",
    "        )\n",
    "\n",
    "    def forward(self, x):\n",
    "        x = self.flatten(x)\n",
    "        logits = self.linear_relu_stack(x)\n",
    "        return logits"
   ]
  },
  {
   "cell_type": "markdown",
   "metadata": {},
   "source": [
    "Criamos uma instância de `NeuralNetwork`, movemos para o `device`,\n",
    "e imprimimos sua estrutura."
   ]
  },
  {
   "cell_type": "code",
   "execution_count": 20,
   "metadata": {
    "collapsed": false
   },
   "outputs": [
    {
     "name": "stdout",
     "output_type": "stream",
     "text": [
      "NeuralNetwork(\n",
      "  (flatten): Flatten(start_dim=1, end_dim=-1)\n",
      "  (linear_relu_stack): Sequential(\n",
      "    (0): Linear(in_features=784, out_features=512, bias=True)\n",
      "    (1): ReLU()\n",
      "    (2): Linear(in_features=512, out_features=512, bias=True)\n",
      "    (3): ReLU()\n",
      "    (4): Linear(in_features=512, out_features=10, bias=True)\n",
      "  )\n",
      ")\n"
     ]
    }
   ],
   "source": [
    "model = NeuralNetwork().to(device)\n",
    "print(model)"
   ]
  },
  {
   "cell_type": "markdown",
   "metadata": {},
   "source": [
    "Para usar o modelo, passamos os dados de entrada. Isso executa o\n",
    "`forward`, juntamente com algumas \n",
    "[operações em segundo plano ](https://github.com/pytorch/pytorch/blob/270111b7b611d174967ed204776985cefca9c144/torch/nn/modules/module.py#L866).\n",
    "Não chame `model.forward()` diretamente!\n",
    "\n",
    "A chamada do modelo na entrada retorna um tensor bidimensional \n",
    "com dim=0 correspondendo a cada saída de 10 valores brutos \n",
    "previstos para cada classe, e dim=1 correspondendo aos valores \n",
    "individuais de cada saída. Obtemos as probabilidades de previsão \n",
    "passando-as por uma instância do módulo `nn.Softmax`."
   ]
  },
  {
   "cell_type": "code",
   "execution_count": 21,
   "metadata": {
    "collapsed": false
   },
   "outputs": [
    {
     "name": "stdout",
     "output_type": "stream",
     "text": [
      "Predicted class: tensor([5], device='cuda:0')\n"
     ]
    }
   ],
   "source": [
    "X = torch.rand(1, 28, 28, device=device)\n",
    "logits = model(X)\n",
    "pred_probab = nn.Softmax(dim=1)(logits)\n",
    "y_pred = pred_probab.argmax(1)\n",
    "print(f\"Predicted class: {y_pred}\")"
   ]
  },
  {
   "cell_type": "markdown",
   "metadata": {},
   "source": [
    "------------------------------------------------------------------------\n"
   ]
  },
  {
   "cell_type": "markdown",
   "metadata": {},
   "source": [
    "Camadas do modelo\n",
    "============\n",
    "\n",
    "Vamos analisar as camadas do modelo FashionMNIST. Para ilustrar, pegaremos um minilote de amostra com 3 imagens de tamanho 28x28 e veremos o que acontece com ele à medida que o passamos pela rede."
   ]
  },
  {
   "cell_type": "code",
   "execution_count": 22,
   "metadata": {
    "collapsed": false
   },
   "outputs": [
    {
     "name": "stdout",
     "output_type": "stream",
     "text": [
      "torch.Size([3, 28, 28])\n"
     ]
    }
   ],
   "source": [
    "input_image = torch.rand(3,28,28)\n",
    "print(input_image.size())"
   ]
  },
  {
   "cell_type": "markdown",
   "metadata": {},
   "source": [
    "nn.Flatten\n",
    "==========\n",
    "\n",
    "Inicializamos a camada \n",
    "[nn.Flatten](https://pytorch.org/docs/stable/generated/torch.nn.Flatten.html)\n",
    "para converter cada imagem 2D 28x28 em uma matriz contígua de 784 \n",
    "valores de pixels (a dimensão do minibatch (em dim=0) é mantida)."
   ]
  },
  {
   "cell_type": "code",
   "execution_count": 23,
   "metadata": {
    "collapsed": false
   },
   "outputs": [
    {
     "name": "stdout",
     "output_type": "stream",
     "text": [
      "torch.Size([3, 784])\n"
     ]
    }
   ],
   "source": [
    "flatten = nn.Flatten()\n",
    "flat_image = flatten(input_image)\n",
    "print(flat_image.size())"
   ]
  },
  {
   "cell_type": "markdown",
   "metadata": {},
   "source": [
    "nn.Linear\n",
    "=========\n",
    "\n",
    "A [Camada linear](https://pytorch.org/docs/stable/generated/torch.nn.Linear.html)\n",
    "é um módulo que aplica uma transformação linear na entrada usando seus pesos e vieses armazenados."
   ]
  },
  {
   "cell_type": "code",
   "execution_count": 24,
   "metadata": {
    "collapsed": false
   },
   "outputs": [
    {
     "name": "stdout",
     "output_type": "stream",
     "text": [
      "torch.Size([3, 20])\n"
     ]
    }
   ],
   "source": [
    "layer1 = nn.Linear(in_features=28*28, out_features=20)\n",
    "hidden1 = layer1(flat_image)\n",
    "print(hidden1.size())"
   ]
  },
  {
   "cell_type": "markdown",
   "metadata": {},
   "source": [
    "nn.ReLU\n",
    "=======\n",
    "\n",
    "Ativações não lineares são o que criam os mapeamentos complexos \n",
    "entre as entradas e saídas do modelo. Elas são aplicadas após \n",
    "transformações lineares para introduzir a **não linearidade**, \n",
    "ajudando as redes neurais a aprender uma ampla variedade de fenômenos.\n",
    "\n",
    "Neste modelo, usamos\n",
    "[nn.ReLU](https://pytorch.org/docs/stable/generated/torch.nn.ReLU.html)\n",
    "entre nossas camadas lineares, mas há outras ativações \n",
    "para introduzir não linearidade em seu modelo."
   ]
  },
  {
   "cell_type": "code",
   "execution_count": 25,
   "metadata": {
    "collapsed": false
   },
   "outputs": [
    {
     "name": "stdout",
     "output_type": "stream",
     "text": [
      "Before ReLU: tensor([[-1.4978e-01,  3.5953e-01, -2.5358e-01,  2.2685e-01,  2.1614e-01,\n",
      "          6.2577e-01,  1.0041e-01,  2.3143e-02,  4.7045e-01,  1.7473e-01,\n",
      "         -2.3214e-01, -1.6198e-01,  2.5856e-01,  1.4889e-01, -2.8388e-01,\n",
      "         -2.8260e-02,  5.2430e-02,  1.0162e-01, -3.2427e-01, -2.7101e-01],\n",
      "        [ 1.4328e-01,  1.1175e+00,  1.0312e-01,  1.4313e-01,  2.4551e-03,\n",
      "          6.0019e-01,  6.5454e-02, -2.4490e-02,  4.1264e-01, -8.2317e-02,\n",
      "         -2.7198e-01, -3.4181e-01,  2.4958e-01,  5.3462e-01,  7.4921e-03,\n",
      "         -1.0417e-03, -9.8114e-02,  3.6218e-01, -3.8502e-01,  1.0535e-01],\n",
      "        [-3.7121e-01,  6.5653e-01,  6.7728e-02, -1.6095e-01,  3.0306e-02,\n",
      "          5.7243e-01,  4.3165e-01, -3.6883e-01,  1.5029e-01,  1.8605e-01,\n",
      "         -1.8206e-01,  2.6177e-01,  3.8354e-01,  3.7296e-01,  2.1004e-02,\n",
      "         -2.5384e-01,  2.0413e-01,  3.5992e-01, -5.6264e-01,  1.1953e-01]],\n",
      "       grad_fn=<AddmmBackward0>)\n",
      "\n",
      "\n",
      "After ReLU: tensor([[0.0000, 0.3595, 0.0000, 0.2269, 0.2161, 0.6258, 0.1004, 0.0231, 0.4704,\n",
      "         0.1747, 0.0000, 0.0000, 0.2586, 0.1489, 0.0000, 0.0000, 0.0524, 0.1016,\n",
      "         0.0000, 0.0000],\n",
      "        [0.1433, 1.1175, 0.1031, 0.1431, 0.0025, 0.6002, 0.0655, 0.0000, 0.4126,\n",
      "         0.0000, 0.0000, 0.0000, 0.2496, 0.5346, 0.0075, 0.0000, 0.0000, 0.3622,\n",
      "         0.0000, 0.1054],\n",
      "        [0.0000, 0.6565, 0.0677, 0.0000, 0.0303, 0.5724, 0.4317, 0.0000, 0.1503,\n",
      "         0.1861, 0.0000, 0.2618, 0.3835, 0.3730, 0.0210, 0.0000, 0.2041, 0.3599,\n",
      "         0.0000, 0.1195]], grad_fn=<ReluBackward0>)\n"
     ]
    }
   ],
   "source": [
    "print(f\"Before ReLU: {hidden1}\\n\\n\")\n",
    "hidden1 = nn.ReLU()(hidden1)\n",
    "print(f\"After ReLU: {hidden1}\")"
   ]
  },
  {
   "cell_type": "markdown",
   "metadata": {},
   "source": [
    "nn.Sequential\n",
    "=============\n",
    "\n",
    "[nn.Sequential](https://pytorch.org/docs/stable/generated/torch.nn.Sequential.html)\n",
    " é um contêiner ordenado de módulos. Os dados são passados ​​por todos os módulos na mesma ordem definida. Você pode usar contêineres sequenciais para montar uma rede rápida como `seq_modules`.\n"
   ]
  },
  {
   "cell_type": "code",
   "execution_count": 26,
   "metadata": {
    "collapsed": false
   },
   "outputs": [],
   "source": [
    "seq_modules = nn.Sequential(\n",
    "    flatten,\n",
    "    layer1,\n",
    "    nn.ReLU(),\n",
    "    nn.Linear(20, 10)\n",
    ")\n",
    "input_image = torch.rand(3,28,28)\n",
    "logits = seq_modules(input_image)"
   ]
  },
  {
   "cell_type": "markdown",
   "metadata": {},
   "source": [
    "nn.Softmax\n",
    "==========\n",
    "\n",
    "A última camada linear da rede neural retorna `logits` valores brutos em\n",
    " \\[-infty, infty\\] que são passados ​​para o módulo\n",
    "[nn.Softmax](https://pytorch.org/docs/stable/generated/torch.nn.Softmax.html).\n",
    "Os logits são escalados para valores [0, 1] que representam as probabilidades previstas do modelo para cada classe. O parâmetro `dim`, indica a dimensão ao longo da qual os valores devem somar 1.\n"
   ]
  },
  {
   "cell_type": "code",
   "execution_count": 27,
   "metadata": {
    "collapsed": false
   },
   "outputs": [],
   "source": [
    "softmax = nn.Softmax(dim=1)\n",
    "pred_probab = softmax(logits)"
   ]
  },
  {
   "cell_type": "markdown",
   "metadata": {},
   "source": [
    "Parâmetros do modelo\n",
    "================\n",
    "\n",
    "Muitas camadas dentro de uma rede neural são parametrizadas, ou seja, \n",
    "possuem pesos e vieses associados que são otimizados durante o treinamento.\n",
    "A subclassificação `nn.Module` rastreia automaticamente todos os campos \n",
    "definidos dentro do objeto do seu modelo e torna todos os parâmetros \n",
    "acessíveis usando os método `parameters()` ou `named_parameters()`.\n",
    "\n",
    "Neste exemplo, iteramos sobre cada parâmetro e imprimimos seu tamanho e uma prévia de seus valores."
   ]
  },
  {
   "cell_type": "code",
   "execution_count": 28,
   "metadata": {
    "collapsed": false
   },
   "outputs": [
    {
     "name": "stdout",
     "output_type": "stream",
     "text": [
      "Model structure: NeuralNetwork(\n",
      "  (flatten): Flatten(start_dim=1, end_dim=-1)\n",
      "  (linear_relu_stack): Sequential(\n",
      "    (0): Linear(in_features=784, out_features=512, bias=True)\n",
      "    (1): ReLU()\n",
      "    (2): Linear(in_features=512, out_features=512, bias=True)\n",
      "    (3): ReLU()\n",
      "    (4): Linear(in_features=512, out_features=10, bias=True)\n",
      "  )\n",
      ")\n",
      "\n",
      "\n",
      "Layer: linear_relu_stack.0.weight | Size: torch.Size([512, 784]) | Values : tensor([[-0.0064, -0.0231,  0.0125,  ...,  0.0127, -0.0256, -0.0146],\n",
      "        [ 0.0229,  0.0135,  0.0156,  ...,  0.0313, -0.0273,  0.0254]],\n",
      "       device='cuda:0', grad_fn=<SliceBackward0>) \n",
      "\n",
      "Layer: linear_relu_stack.0.bias | Size: torch.Size([512]) | Values : tensor([ 0.0199, -0.0352], device='cuda:0', grad_fn=<SliceBackward0>) \n",
      "\n",
      "Layer: linear_relu_stack.2.weight | Size: torch.Size([512, 512]) | Values : tensor([[-0.0035,  0.0376, -0.0332,  ...,  0.0036, -0.0296, -0.0129],\n",
      "        [-0.0221,  0.0148,  0.0388,  ..., -0.0241, -0.0022, -0.0125]],\n",
      "       device='cuda:0', grad_fn=<SliceBackward0>) \n",
      "\n",
      "Layer: linear_relu_stack.2.bias | Size: torch.Size([512]) | Values : tensor([-0.0004, -0.0108], device='cuda:0', grad_fn=<SliceBackward0>) \n",
      "\n",
      "Layer: linear_relu_stack.4.weight | Size: torch.Size([10, 512]) | Values : tensor([[ 0.0166,  0.0291,  0.0171,  ..., -0.0214,  0.0323,  0.0410],\n",
      "        [-0.0251, -0.0274,  0.0216,  ..., -0.0230, -0.0106, -0.0005]],\n",
      "       device='cuda:0', grad_fn=<SliceBackward0>) \n",
      "\n",
      "Layer: linear_relu_stack.4.bias | Size: torch.Size([10]) | Values : tensor([-0.0291, -0.0439], device='cuda:0', grad_fn=<SliceBackward0>) \n",
      "\n"
     ]
    }
   ],
   "source": [
    "print(f\"Model structure: {model}\\n\\n\")\n",
    "\n",
    "for name, param in model.named_parameters():\n",
    "    print(f\"Layer: {name} | Size: {param.size()} | Values : {param[:2]} \\n\")"
   ]
  },
  {
   "cell_type": "markdown",
   "metadata": {},
   "source": [
    "------------------------------------------------------------------------\n"
   ]
  },
  {
   "cell_type": "markdown",
   "metadata": {},
   "source": [
    "Leitura adicional\n",
    "===============\n",
    "\n",
    "-   [torch.nn API](https://pytorch.org/docs/stable/nn.html)\n"
   ]
  }
 ],
 "metadata": {
  "kernelspec": {
   "display_name": "Python 3",
   "language": "python",
   "name": "python3"
  },
  "language_info": {
   "codemirror_mode": {
    "name": "ipython",
    "version": 3
   },
   "file_extension": ".py",
   "mimetype": "text/x-python",
   "name": "python",
   "nbconvert_exporter": "python",
   "pygments_lexer": "ipython3",
   "version": "3.10.12"
  }
 },
 "nbformat": 4,
 "nbformat_minor": 0
}
